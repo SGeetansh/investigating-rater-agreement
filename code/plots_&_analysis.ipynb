{
  "cells": [
    {
      "cell_type": "markdown",
      "metadata": {},
      "source": [
        "What does the code do till now:\n",
        "- Defines the amount of positive and negative items. \n",
        "- Defines the probability that a rater gives correct answer to the true positive and the true negative\n",
        "- Also defines the number of raters per item\n",
        "\n",
        "The Data Generation process:\n",
        "- We then define the dataframe with item, true_answer and rater_id\n",
        "- We add a randon number between 0 and 1 as a column\n",
        "- Based on the random number, if the rand < p_true_pos, we add 1 else 0. Same for true negative but 0 and 1\n",
        "- At the end we generate a table which captures the fraction of correct answers given by raters\n",
        "- We also create a frequency table of the answer column"
      ]
    },
    {
      "cell_type": "code",
      "execution_count": null,
      "metadata": {
        "vscode": {
          "languageId": "r"
        }
      },
      "outputs": [],
      "source": [
        "install.packages(\"dplyr\")\n",
        "install.packages(\"magrittr\")\n",
        "install.packages(\"tidyr\")"
      ]
    },
    {
      "cell_type": "code",
      "execution_count": 7,
      "metadata": {
        "id": "MfEQRI_qMGn_",
        "vscode": {
          "languageId": "r"
        }
      },
      "outputs": [],
      "source": [
        "set.seed(42)\n",
        "suppressPackageStartupMessages({\n",
        "    library(dplyr)\n",
        "    library(irr)\n",
        "    library(irrCAC)\n",
        "    library(tidyr)\n",
        "    library(magrittr)\n",
        "    library(ggplot2)\n",
        "})\n"
      ]
    },
    {
      "cell_type": "markdown",
      "metadata": {},
      "source": [
        "### Foundational code to showcase the data generation process and calculation of Krips Alpha"
      ]
    },
    {
      "cell_type": "code",
      "execution_count": 8,
      "metadata": {
        "id": "EkZD21VkMMQp",
        "vscode": {
          "languageId": "r"
        }
      },
      "outputs": [],
      "source": [
        "n_pos <- 100  # number of true positive items\n",
        "n_neg <- 100  # Number of true negative items\n",
        "\n",
        "p_pos_correct <- 0.7  # Probability that a rater gives correct answer to a true positive\n",
        "p_neg_correct <- 0.7 # probability that a rater gives correct answer to a true negative\n",
        "\n",
        "n_raters_per_item <- 10"
      ]
    },
    {
      "cell_type": "code",
      "execution_count": 9,
      "metadata": {
        "colab": {
          "base_uri": "https://localhost:8080/",
          "height": 173
        },
        "id": "YaulGcLfMNvr",
        "outputId": "c3c58ccc-f51e-4b81-d9ad-54817a1d0908",
        "vscode": {
          "languageId": "r"
        }
      },
      "outputs": [
        {
          "data": {
            "text/html": [
              "<table class=\"dataframe\">\n",
              "<caption>A tibble: 2 × 2</caption>\n",
              "<thead>\n",
              "\t<tr><th scope=col>true_answer</th><th scope=col>m</th></tr>\n",
              "\t<tr><th scope=col>&lt;dbl&gt;</th><th scope=col>&lt;dbl&gt;</th></tr>\n",
              "</thead>\n",
              "<tbody>\n",
              "\t<tr><td>0</td><td>0.689</td></tr>\n",
              "\t<tr><td>1</td><td>0.707</td></tr>\n",
              "</tbody>\n",
              "</table>\n"
            ],
            "text/latex": [
              "A tibble: 2 × 2\n",
              "\\begin{tabular}{ll}\n",
              " true\\_answer & m\\\\\n",
              " <dbl> & <dbl>\\\\\n",
              "\\hline\n",
              "\t 0 & 0.689\\\\\n",
              "\t 1 & 0.707\\\\\n",
              "\\end{tabular}\n"
            ],
            "text/markdown": [
              "\n",
              "A tibble: 2 × 2\n",
              "\n",
              "| true_answer &lt;dbl&gt; | m &lt;dbl&gt; |\n",
              "|---|---|\n",
              "| 0 | 0.689 |\n",
              "| 1 | 0.707 |\n",
              "\n"
            ],
            "text/plain": [
              "  true_answer m    \n",
              "1 0           0.689\n",
              "2 1           0.707"
            ]
          },
          "metadata": {},
          "output_type": "display_data"
        },
        {
          "data": {
            "text/plain": [
              "\n",
              "   0    1 \n",
              " 982 1018 "
            ]
          },
          "metadata": {},
          "output_type": "display_data"
        },
        {
          "data": {
            "text/html": [
              "<table class=\"dataframe\">\n",
              "<caption>A matrix: 10 × 200 of type dbl</caption>\n",
              "<tbody>\n",
              "\t<tr><th scope=row>1</th><td>0</td><td>1</td><td>0</td><td>0</td><td>1</td><td>1</td><td>1</td><td>1</td><td>1</td><td>1</td><td>⋯</td><td>1</td><td>1</td><td>1</td><td>1</td><td>0</td><td>1</td><td>1</td><td>1</td><td>1</td><td>1</td></tr>\n",
              "\t<tr><th scope=row>2</th><td>0</td><td>0</td><td>1</td><td>0</td><td>1</td><td>1</td><td>0</td><td>1</td><td>1</td><td>1</td><td>⋯</td><td>1</td><td>0</td><td>1</td><td>0</td><td>0</td><td>1</td><td>0</td><td>0</td><td>0</td><td>1</td></tr>\n",
              "\t<tr><th scope=row>3</th><td>1</td><td>0</td><td>0</td><td>1</td><td>1</td><td>1</td><td>0</td><td>1</td><td>1</td><td>1</td><td>⋯</td><td>1</td><td>1</td><td>0</td><td>1</td><td>0</td><td>1</td><td>0</td><td>0</td><td>0</td><td>0</td></tr>\n",
              "\t<tr><th scope=row>4</th><td>0</td><td>1</td><td>0</td><td>1</td><td>0</td><td>0</td><td>1</td><td>1</td><td>1</td><td>0</td><td>⋯</td><td>0</td><td>0</td><td>0</td><td>0</td><td>0</td><td>1</td><td>0</td><td>0</td><td>0</td><td>1</td></tr>\n",
              "\t<tr><th scope=row>5</th><td>1</td><td>1</td><td>1</td><td>1</td><td>1</td><td>1</td><td>0</td><td>1</td><td>0</td><td>0</td><td>⋯</td><td>0</td><td>1</td><td>0</td><td>0</td><td>1</td><td>1</td><td>1</td><td>1</td><td>0</td><td>1</td></tr>\n",
              "\t<tr><th scope=row>6</th><td>1</td><td>0</td><td>1</td><td>0</td><td>0</td><td>0</td><td>1</td><td>0</td><td>1</td><td>0</td><td>⋯</td><td>1</td><td>0</td><td>1</td><td>0</td><td>0</td><td>0</td><td>0</td><td>0</td><td>0</td><td>0</td></tr>\n",
              "\t<tr><th scope=row>7</th><td>0</td><td>0</td><td>1</td><td>1</td><td>0</td><td>1</td><td>1</td><td>1</td><td>1</td><td>1</td><td>⋯</td><td>0</td><td>1</td><td>0</td><td>0</td><td>1</td><td>0</td><td>0</td><td>1</td><td>1</td><td>0</td></tr>\n",
              "\t<tr><th scope=row>8</th><td>1</td><td>1</td><td>0</td><td>1</td><td>1</td><td>1</td><td>0</td><td>1</td><td>1</td><td>1</td><td>⋯</td><td>0</td><td>1</td><td>1</td><td>0</td><td>0</td><td>1</td><td>1</td><td>0</td><td>1</td><td>0</td></tr>\n",
              "\t<tr><th scope=row>9</th><td>1</td><td>1</td><td>1</td><td>0</td><td>0</td><td>1</td><td>1</td><td>1</td><td>1</td><td>0</td><td>⋯</td><td>0</td><td>1</td><td>0</td><td>1</td><td>1</td><td>0</td><td>0</td><td>1</td><td>1</td><td>0</td></tr>\n",
              "\t<tr><th scope=row>10</th><td>0</td><td>1</td><td>0</td><td>1</td><td>1</td><td>1</td><td>1</td><td>1</td><td>1</td><td>1</td><td>⋯</td><td>1</td><td>0</td><td>0</td><td>0</td><td>0</td><td>0</td><td>0</td><td>0</td><td>1</td><td>1</td></tr>\n",
              "</tbody>\n",
              "</table>\n"
            ],
            "text/latex": [
              "A matrix: 10 × 200 of type dbl\n",
              "\\begin{tabular}{r|lllllllllllllllllllll}\n",
              "\t1 & 0 & 1 & 0 & 0 & 1 & 1 & 1 & 1 & 1 & 1 & ⋯ & 1 & 1 & 1 & 1 & 0 & 1 & 1 & 1 & 1 & 1\\\\\n",
              "\t2 & 0 & 0 & 1 & 0 & 1 & 1 & 0 & 1 & 1 & 1 & ⋯ & 1 & 0 & 1 & 0 & 0 & 1 & 0 & 0 & 0 & 1\\\\\n",
              "\t3 & 1 & 0 & 0 & 1 & 1 & 1 & 0 & 1 & 1 & 1 & ⋯ & 1 & 1 & 0 & 1 & 0 & 1 & 0 & 0 & 0 & 0\\\\\n",
              "\t4 & 0 & 1 & 0 & 1 & 0 & 0 & 1 & 1 & 1 & 0 & ⋯ & 0 & 0 & 0 & 0 & 0 & 1 & 0 & 0 & 0 & 1\\\\\n",
              "\t5 & 1 & 1 & 1 & 1 & 1 & 1 & 0 & 1 & 0 & 0 & ⋯ & 0 & 1 & 0 & 0 & 1 & 1 & 1 & 1 & 0 & 1\\\\\n",
              "\t6 & 1 & 0 & 1 & 0 & 0 & 0 & 1 & 0 & 1 & 0 & ⋯ & 1 & 0 & 1 & 0 & 0 & 0 & 0 & 0 & 0 & 0\\\\\n",
              "\t7 & 0 & 0 & 1 & 1 & 0 & 1 & 1 & 1 & 1 & 1 & ⋯ & 0 & 1 & 0 & 0 & 1 & 0 & 0 & 1 & 1 & 0\\\\\n",
              "\t8 & 1 & 1 & 0 & 1 & 1 & 1 & 0 & 1 & 1 & 1 & ⋯ & 0 & 1 & 1 & 0 & 0 & 1 & 1 & 0 & 1 & 0\\\\\n",
              "\t9 & 1 & 1 & 1 & 0 & 0 & 1 & 1 & 1 & 1 & 0 & ⋯ & 0 & 1 & 0 & 1 & 1 & 0 & 0 & 1 & 1 & 0\\\\\n",
              "\t10 & 0 & 1 & 0 & 1 & 1 & 1 & 1 & 1 & 1 & 1 & ⋯ & 1 & 0 & 0 & 0 & 0 & 0 & 0 & 0 & 1 & 1\\\\\n",
              "\\end{tabular}\n"
            ],
            "text/markdown": [
              "\n",
              "A matrix: 10 × 200 of type dbl\n",
              "\n",
              "| 1 | 0 | 1 | 0 | 0 | 1 | 1 | 1 | 1 | 1 | 1 | ⋯ | 1 | 1 | 1 | 1 | 0 | 1 | 1 | 1 | 1 | 1 |\n",
              "| 2 | 0 | 0 | 1 | 0 | 1 | 1 | 0 | 1 | 1 | 1 | ⋯ | 1 | 0 | 1 | 0 | 0 | 1 | 0 | 0 | 0 | 1 |\n",
              "| 3 | 1 | 0 | 0 | 1 | 1 | 1 | 0 | 1 | 1 | 1 | ⋯ | 1 | 1 | 0 | 1 | 0 | 1 | 0 | 0 | 0 | 0 |\n",
              "| 4 | 0 | 1 | 0 | 1 | 0 | 0 | 1 | 1 | 1 | 0 | ⋯ | 0 | 0 | 0 | 0 | 0 | 1 | 0 | 0 | 0 | 1 |\n",
              "| 5 | 1 | 1 | 1 | 1 | 1 | 1 | 0 | 1 | 0 | 0 | ⋯ | 0 | 1 | 0 | 0 | 1 | 1 | 1 | 1 | 0 | 1 |\n",
              "| 6 | 1 | 0 | 1 | 0 | 0 | 0 | 1 | 0 | 1 | 0 | ⋯ | 1 | 0 | 1 | 0 | 0 | 0 | 0 | 0 | 0 | 0 |\n",
              "| 7 | 0 | 0 | 1 | 1 | 0 | 1 | 1 | 1 | 1 | 1 | ⋯ | 0 | 1 | 0 | 0 | 1 | 0 | 0 | 1 | 1 | 0 |\n",
              "| 8 | 1 | 1 | 0 | 1 | 1 | 1 | 0 | 1 | 1 | 1 | ⋯ | 0 | 1 | 1 | 0 | 0 | 1 | 1 | 0 | 1 | 0 |\n",
              "| 9 | 1 | 1 | 1 | 0 | 0 | 1 | 1 | 1 | 1 | 0 | ⋯ | 0 | 1 | 0 | 1 | 1 | 0 | 0 | 1 | 1 | 0 |\n",
              "| 10 | 0 | 1 | 0 | 1 | 1 | 1 | 1 | 1 | 1 | 1 | ⋯ | 1 | 0 | 0 | 0 | 0 | 0 | 0 | 0 | 1 | 1 |\n",
              "\n"
            ],
            "text/plain": [
              "   [,1] [,2] [,3] [,4] [,5] [,6] [,7] [,8] [,9] [,10] [,11] [,12] [,13] [,14]\n",
              "1  0    1    0    0    1    1    1    1    1    1     ⋯     1     1     1    \n",
              "2  0    0    1    0    1    1    0    1    1    1     ⋯     1     0     1    \n",
              "3  1    0    0    1    1    1    0    1    1    1     ⋯     1     1     0    \n",
              "4  0    1    0    1    0    0    1    1    1    0     ⋯     0     0     0    \n",
              "5  1    1    1    1    1    1    0    1    0    0     ⋯     0     1     0    \n",
              "6  1    0    1    0    0    0    1    0    1    0     ⋯     1     0     1    \n",
              "7  0    0    1    1    0    1    1    1    1    1     ⋯     0     1     0    \n",
              "8  1    1    0    1    1    1    0    1    1    1     ⋯     0     1     1    \n",
              "9  1    1    1    0    0    1    1    1    1    0     ⋯     0     1     0    \n",
              "10 0    1    0    1    1    1    1    1    1    1     ⋯     1     0     0    \n",
              "   [,15] [,16] [,17] [,18] [,19] [,20] [,21]\n",
              "1  1     0     1     1     1     1     1    \n",
              "2  0     0     1     0     0     0     1    \n",
              "3  1     0     1     0     0     0     0    \n",
              "4  0     0     1     0     0     0     1    \n",
              "5  0     1     1     1     1     0     1    \n",
              "6  0     0     0     0     0     0     0    \n",
              "7  0     1     0     0     1     1     0    \n",
              "8  0     0     1     1     0     1     0    \n",
              "9  1     1     0     0     1     1     0    \n",
              "10 0     0     0     0     0     1     1    "
            ]
          },
          "metadata": {},
          "output_type": "display_data"
        }
      ],
      "source": [
        "items <- rep(1:(n_neg + n_pos))\n",
        "\n",
        "d <- data.frame(item = rep(items, n_raters_per_item),\n",
        "     true_answer = rep(c(rep(1, n_pos),\n",
        "                     rep(0, n_neg)), n_raters_per_item))\n",
        "\n",
        "# Creates a data frame 'd' with columns 'item' and 'true_answer'.\n",
        "# 'item' repeats the sequence of item identifiers for each rater.\n",
        "# 'true_answer' contains the true classifications (1 for positive, 0 for negative), repeated for each rater.\n",
        "\n",
        "d <- d %>% dplyr::arrange(item)\n",
        "# Arranges the data frame by the 'item' column.\n",
        "\n",
        "d$rater <- 1:n_raters_per_item\n",
        "# Assigns each row a rater ID, from 1 to the number of raters per item.\n",
        "\n",
        "d$rand <- runif(nrow(d))\n",
        "# Adds a column 'rand' with random numbers between 0 and 1 for each row (rating).\n",
        "\n",
        "d_pos <- d %>%\n",
        "  dplyr::filter(true_answer == 1) %>%\n",
        "  dplyr::mutate(answer = ifelse(rand < p_pos_correct, 1, 0))\n",
        "# Filters rows where 'true_answer' is 1 (true positives).\n",
        "# Adds a column 'answer', where raters correctly identify positive items based on the probability 'p_pos_correct'.\n",
        "\n",
        "d_neg <- d %>%\n",
        "  dplyr::filter(true_answer == 0) %>%\n",
        "  dplyr::mutate(answer = ifelse(rand < p_neg_correct, 0, 1))\n",
        "# Filters rows where 'true_answer' is 0 (true negatives).\n",
        "# Adds a column 'answer', where raters correctly identify negative items based on the probability 'p_neg_correct'.\n",
        "\n",
        "d <- dplyr::bind_rows(d_pos, d_neg)\n",
        "# Combines the positive and negative data frames back into one.\n",
        "\n",
        "d %>%\n",
        "  dplyr::mutate(correct = (true_answer == answer)) %>%\n",
        "  dplyr::group_by(true_answer) %>%\n",
        "  dplyr::summarise(m = mean(correct))\n",
        "# This code first creates a new column 'correct' that is TRUE when the rater's answer matches the true answer.\n",
        "# Then it groups the data by 'true_answer' and calculates the mean of the 'correct' column for each group.\n",
        "# 'm' will represent the fraction of correct answers for each type of true answer (true positive or true negative).\n",
        "\n",
        "table(d$answer)\n",
        "\n",
        "# Assuming 'd' is your existing data frame\n",
        "# Transforming 'd' into a format suitable for kripp.alpha\n",
        "ratings_matrix <- d %>%\n",
        "  select(item, rater, answer) %>%\n",
        "  pivot_wider(names_from = rater, values_from = answer)\n",
        "\n",
        "# Removing the item column to get the matrix format and taking transpose (for correct format for calculation of Krips Alpha)\n",
        "binary_ratings_matrix <- t(as.matrix(ratings_matrix[,-1]))\n",
        "\n",
        "binary_ratings_matrix"
      ]
    },
    {
      "cell_type": "markdown",
      "metadata": {},
      "source": [
        "What should be the next step from here:\n",
        "- Write code to calculate Krippendorf's alpha\n",
        "- Generate the skew in data (number of TP and TN true items)"
      ]
    },
    {
      "cell_type": "code",
      "execution_count": 5,
      "metadata": {
        "vscode": {
          "languageId": "r"
        }
      },
      "outputs": [
        {
          "name": "stdout",
          "output_type": "stream",
          "text": [
            " Krippendorff's alpha\n",
            "\n",
            " Subjects = 200 \n",
            "   Raters = 10 \n",
            "    alpha = 0.153 \n"
          ]
        }
      ],
      "source": [
        "# Calculate Krippendorff's Alpha\n",
        "alpha_result <- irr::kripp.alpha(binary_ratings_matrix, method = \"nominal\")\n",
        "print(alpha_result)"
      ]
    },
    {
      "cell_type": "markdown",
      "metadata": {},
      "source": [
        "We convert the above code to a function calculate_krippendorff_alpha which takes in the parameters n_pos, n_neg, p_pos_correct, p_neg_correct, n_raters_per_item, generates the data based on these parameters and then calculates the value of Krips alpha over that. "
      ]
    },
    {
      "cell_type": "code",
      "execution_count": 6,
      "metadata": {
        "vscode": {
          "languageId": "r"
        }
      },
      "outputs": [
        {
          "data": {
            "text/html": [
              "0.962445592003998"
            ],
            "text/latex": [
              "0.962445592003998"
            ],
            "text/markdown": [
              "0.962445592003998"
            ],
            "text/plain": [
              "[1] 0.9624456"
            ]
          },
          "metadata": {},
          "output_type": "display_data"
        }
      ],
      "source": [
        "calculate_krippendorff_alpha <- function(n_pos, n_neg, p_pos_correct, p_neg_correct, n_raters_per_item) {\n",
        "    set.seed(42)\n",
        "    # Create the data frame with true answers\n",
        "    d <- data.frame(item = rep(1:(n_neg + n_pos), each = n_raters_per_item),\n",
        "                    true_answer = rep(c(rep(1, n_pos), rep(0, n_neg)), each = n_raters_per_item))\n",
        "\n",
        "    # Assign rater IDs and generate random numbers\n",
        "    d$rater <- rep(1:n_raters_per_item, times = n_neg + n_pos)\n",
        "    d$rand <- runif(nrow(d))\n",
        "\n",
        "    # Assign answers based on true_answer and probabilities\n",
        "    d$answer <- with(d, ifelse(true_answer == 1, ifelse(rand < p_pos_correct, 1, 0), \n",
        "                              ifelse(rand < p_neg_correct, 0, 1)))\n",
        "\n",
        "    # Transform data into matrix format for Krippendorff's alpha calculation\n",
        "    ratings_matrix <- d %>%\n",
        "      select(item, rater, answer) %>%\n",
        "      pivot_wider(names_from = rater, values_from = answer)\n",
        "\n",
        "    binary_ratings_matrix <- t(as.matrix(ratings_matrix[,-1]))\n",
        "\n",
        "    # Calculate Krippendorff's alpha\n",
        "    alpha <- kripp.alpha(binary_ratings_matrix, method = \"nominal\")\n",
        "\n",
        "    return(alpha$value)\n",
        "}\n",
        "\n",
        "# Example usage of the function\n",
        "krippendorff_alpha <- calculate_krippendorff_alpha(100, 100, 0.99, 0.99, 10)\n",
        "krippendorff_alpha"
      ]
    },
    {
      "cell_type": "code",
      "execution_count": null,
      "metadata": {
        "vscode": {
          "languageId": "r"
        }
      },
      "outputs": [],
      "source": []
    },
    {
      "cell_type": "code",
      "execution_count": 7,
      "metadata": {
        "vscode": {
          "languageId": "r"
        }
      },
      "outputs": [
        {
          "data": {
            "image/png": "[encoded data removed]",
            "text/plain": [
              "plot without title"
            ]
          },
          "metadata": {
            "image/png": {
              "height": 420,
              "width": 420
            }
          },
          "output_type": "display_data"
        }
      ],
      "source": [
        "# Initialize vectors to store the values\n",
        "probabilities <- seq(0, 1, by = 0.1)\n",
        "alpha_values_pos_constant <- numeric(length(probabilities))\n",
        "alpha_values_neg_constant <- numeric(length(probabilities))\n",
        "\n",
        "# Constant values for p_pos_correct and p_neg_correct\n",
        "constant_pos_correct <- 0.9  # Keeping p_pos_correct constant\n",
        "constant_neg_correct <- 0.9  # Keeping p_neg_correct constant\n",
        "\n",
        "# Calculate Krippendorff's alpha for varying p_neg_correct, keeping p_pos_correct constant\n",
        "for (i in seq_along(probabilities)) {\n",
        "    alpha_values_neg_constant[i] <- calculate_krippendorff_alpha(100, 100, constant_pos_correct, probabilities[i], 10)\n",
        "}\n",
        "\n",
        "# Calculate Krippendorff's alpha for varying p_pos_correct, keeping p_neg_correct constant\n",
        "for (i in seq_along(probabilities)) {\n",
        "  alpha_values_pos_constant[i] <- calculate_krippendorff_alpha(100, 100, probabilities[i], constant_neg_correct, 10)\n",
        "}\n",
        "\n",
        "data_to_plot <- data.frame(\n",
        "    Probability = rep(probabilities, times = 2),\n",
        "    KrippendorffAlpha = c(alpha_values_neg_constant, alpha_values_pos_constant),\n",
        "    Type = rep(c(\"Vary p_neg_correct\", \"Vary p_pos_correct\"), each = length(probabilities))\n",
        ")\n",
        "\n",
        "# Create the plot\n",
        "ggplot(data_to_plot, aes(x = Probability, y = KrippendorffAlpha, color = Type, group = Type)) +\n",
        "  geom_line() +\n",
        "  ggtitle(\"Krippendorff's Alpha vs. Varying Probabilities\") +\n",
        "  xlab(\"Probability\") +\n",
        "  ylab(\"Krippendorff's Alpha\") +\n",
        "  scale_color_manual(values = c(\"blue\", \"red\")) +\n",
        "  theme_minimal()"
      ]
    },
    {
      "cell_type": "code",
      "execution_count": 70,
      "metadata": {
        "vscode": {
          "languageId": "r"
        }
      },
      "outputs": [
        {
          "data": {
            "image/png": "[encoded data removed]",
            "text/plain": [
              "plot without title"
            ]
          },
          "metadata": {
            "image/png": {
              "height": 420,
              "width": 420
            }
          },
          "output_type": "display_data"
        }
      ],
      "source": [
        "library(ggplot2)\n",
        "\n",
        "# Initialize vectors\n",
        "tpr_values <- seq(0, 1, by = 0.1)\n",
        "tnr_values <- c(0.2, 0.4, 0.6, 0.8, 0.99)\n",
        "\n",
        "# Prepare data for plotting\n",
        "data_to_plot_tpr <- data.frame()\n",
        "\n",
        "for (tnr in tnr_values) {\n",
        "  alpha_values <- sapply(tpr_values, function(p) calculate_krippendorff_alpha(100, 100, tnr, p, 10))\n",
        "  data_to_plot_tpr <- rbind(data_to_plot_tpr, data.frame(\n",
        "    Probability = tpr_values,\n",
        "    KrippendorffAlpha = alpha_values,\n",
        "    Type = paste(\"TNR =\", tnr)\n",
        "  ))\n",
        "}\n",
        "\n",
        "# Create the first plot\n",
        "ggplot(data_to_plot_tpr, aes(x = Probability, y = KrippendorffAlpha, color = Type, group = Type)) +\n",
        "  geom_line() +\n",
        "  ggtitle(\"Krippendorff's Alpha vs. Varying TPR (Constant TNR) Split = 0.5\") +\n",
        "  xlab(\"TPR\") +\n",
        "  ylab(\"Krippendorff's Alpha\") +\n",
        "  scale_color_manual(values = rainbow(length(tnr_values))) +\n",
        "  theme_minimal()\n"
      ]
    },
    {
      "cell_type": "code",
      "execution_count": 67,
      "metadata": {
        "vscode": {
          "languageId": "r"
        }
      },
      "outputs": [
        {
          "data": {
            "image/png": "[encoded data removed]",
            "text/plain": [
              "plot without title"
            ]
          },
          "metadata": {
            "image/png": {
              "height": 420,
              "width": 420
            }
          },
          "output_type": "display_data"
        }
      ],
      "source": [
        "# Initialize vectors\n",
        "probabilities <- seq(0, 1, by = 0.1)\n",
        "tnr_values <- c(0.2, 0.4, 0.6, 0.8, 0.99)\n",
        "\n",
        "# Prepare data for plotting\n",
        "data_to_plot_tpr <- data.frame()\n",
        "\n",
        "for (tnr in tnr_values) {\n",
        "  alpha_values <- sapply(probabilities, function(p) calculate_krippendorff_alpha(120, 80, tnr, p, 10))\n",
        "  data_to_plot_tpr <- rbind(data_to_plot_tpr, data.frame(\n",
        "    Probability = probabilities,\n",
        "    KrippendorffAlpha = alpha_values,\n",
        "    Type = paste(\"TNR =\", tnr)\n",
        "  ))\n",
        "}\n",
        "\n",
        "# Create the first plot\n",
        "ggplot(data_to_plot_tpr, aes(x = Probability, y = KrippendorffAlpha, color = Type, group = Type)) +\n",
        "  geom_line() +\n",
        "  ggtitle(\"Krippendorff's Alpha vs. Varying TPR (Constant TNR) Split = 0.6\") +\n",
        "  xlab(\"TPR\") +\n",
        "  ylab(\"Krippendorff's Alpha\") +\n",
        "  scale_color_manual(values = rainbow(length(tnr_values))) +\n",
        "  theme_minimal()"
      ]
    },
    {
      "cell_type": "code",
      "execution_count": 73,
      "metadata": {
        "vscode": {
          "languageId": "r"
        }
      },
      "outputs": [
        {
          "data": {
            "image/png": "[encoded data removed]",
            "text/plain": [
              "plot without title"
            ]
          },
          "metadata": {
            "image/png": {
              "height": 420,
              "width": 420
            }
          },
          "output_type": "display_data"
        }
      ],
      "source": [
        "# Initialize vectors\n",
        "tpr_values <- seq(0, 1, by = 0.1)\n",
        "tnr_values <- c(0.2, 0.4, 0.6, 0.8, 0.99)\n",
        "\n",
        "# Prepare data for plotting\n",
        "data_to_plot_tpr <- data.frame()\n",
        "\n",
        "for (tnr in tnr_values) {\n",
        "  alpha_values <- sapply(tpr_values, function(p) calculate_krippendorff_alpha(140, 60, tnr, p, 10))\n",
        "  data_to_plot_tpr <- rbind(data_to_plot_tpr, data.frame(\n",
        "    Probability = tpr_values,\n",
        "    KrippendorffAlpha = alpha_values,\n",
        "    Type = paste(\"TNR =\", tnr)\n",
        "  ))\n",
        "}\n",
        "\n",
        "# Create the first plot\n",
        "ggplot(data_to_plot_tpr, aes(x = Probability, y = KrippendorffAlpha, color = Type, group = Type)) +\n",
        "  geom_line() +\n",
        "  ggtitle(\"Krippendorff's Alpha vs. Varying TPR (Constant TNR) Split = 0.7\") +\n",
        "  xlab(\"TPR\") +\n",
        "  ylab(\"Krippendorff's Alpha\") +\n",
        "  scale_color_manual(values = rainbow(length(tnr_values))) +\n",
        "  theme_minimal()"
      ]
    },
    {
      "cell_type": "code",
      "execution_count": 72,
      "metadata": {
        "vscode": {
          "languageId": "r"
        }
      },
      "outputs": [
        {
          "data": {
            "image/png": "[encoded data removed]",
            "text/plain": [
              "plot without title"
            ]
          },
          "metadata": {
            "image/png": {
              "height": 420,
              "width": 420
            }
          },
          "output_type": "display_data"
        }
      ],
      "source": [
        "tpr_values <- seq(0, 1, by = 0.1)\n",
        "tnr_values <- c(0.2, 0.4, 0.6, 0.8, 0.99)\n",
        "\n",
        "# Prepare data for plotting\n",
        "data_to_plot_tpr <- data.frame()\n",
        "\n",
        "for (tnr in tnr_values) {\n",
        "  alpha_values <- sapply(tpr_values, function(p) calculate_krippendorff_alpha(180, 20, tnr, p, 10))\n",
        "  data_to_plot_tpr <- rbind(data_to_plot_tpr, data.frame(\n",
        "    Probability = tpr_values,\n",
        "    KrippendorffAlpha = alpha_values,\n",
        "    Type = paste(\"TNR =\", tnr)\n",
        "  ))\n",
        "}\n",
        "\n",
        "# Create the first plot\n",
        "ggplot(data_to_plot_tpr, aes(x = Probability, y = KrippendorffAlpha, color = Type, group = Type)) +\n",
        "  geom_line() +\n",
        "  ggtitle(\"Krippendorff's Alpha vs. Varying TPR (Constant TNR) Split = 0.9\") +\n",
        "  xlab(\"TPR\") +\n",
        "  ylab(\"Krippendorff's Alpha\") +\n",
        "  scale_color_manual(values = rainbow(length(tnr_values))) +\n",
        "  theme_minimal()"
      ]
    },
    {
      "cell_type": "code",
      "execution_count": 8,
      "metadata": {
        "vscode": {
          "languageId": "r"
        }
      },
      "outputs": [],
      "source": [
        "calculate_krippendorff_alpha_with_accuracy <- function(n_pos, n_neg, accuracy, n_raters_per_item) {\n",
        "    set.seed(42)\n",
        "    # Create the data frame with true answers\n",
        "    d <- data.frame(item = rep(1:(n_neg + n_pos), each = n_raters_per_item),\n",
        "                    true_answer = rep(c(rep(1, n_pos), rep(0, n_neg)), each = n_raters_per_item))\n",
        "\n",
        "    # Assign rater IDs and generate random numbers\n",
        "    d$rater <- rep(1:n_raters_per_item, times = n_neg + n_pos)\n",
        "    d$rand <- runif(nrow(d))\n",
        "\n",
        "    # Assign answers based on true_answer and accuracy\n",
        "    d$answer <- with(d, ifelse(true_answer == 1, ifelse(rand < accuracy, 1, 0), \n",
        "                              ifelse(rand < accuracy, 0, 1)))\n",
        "\n",
        "    # Transform data into matrix format for Krippendorff's alpha calculation\n",
        "    ratings_matrix <- d %>%\n",
        "      select(item, rater, answer) %>%\n",
        "      pivot_wider(names_from = rater, values_from = answer)\n",
        "\n",
        "    binary_ratings_matrix <- t(as.matrix(ratings_matrix[,-1]))\n",
        "\n",
        "    # Calculate Krippendorff's alpha\n",
        "    alpha <- kripp.alpha(binary_ratings_matrix, method = \"nominal\")\n",
        "\n",
        "    return(alpha$value)\n",
        "}\n",
        "\n"
      ]
    },
    {
      "cell_type": "code",
      "execution_count": 9,
      "metadata": {
        "vscode": {
          "languageId": "r"
        }
      },
      "outputs": [
        {
          "data": {
            "image/png": "[encoded data removed]",
            "text/plain": [
              "plot without title"
            ]
          },
          "metadata": {
            "image/png": {
              "height": 420,
              "width": 420
            }
          },
          "output_type": "display_data"
        }
      ],
      "source": [
        "# Sequence of accuracy values\n",
        "accuracies <- seq(0, 1, by = 0.1)\n",
        "\n",
        "# Initialize a vector to store Krippendorff's alpha values\n",
        "alpha_values <- numeric(length(accuracies))\n",
        "\n",
        "# Calculate Krippendorff's alpha for each accuracy\n",
        "for (i in seq_along(accuracies)) {\n",
        "  alpha_values[i] <- calculate_krippendorff_alpha_with_accuracy(100, 100, accuracies[i], 10)\n",
        "}\n",
        "\n",
        "# Create the plot\n",
        "data_to_plot <- data.frame(Accuracy = accuracies, KrippendorffAlpha = alpha_values)\n",
        "ggplot(data_to_plot, aes(x = Accuracy, y = KrippendorffAlpha)) +\n",
        "  geom_line() +\n",
        "  ggtitle(\"Krippendorff's Alpha vs. Rater's Accuracy\") +\n",
        "  xlab(\"Accuracy\") +\n",
        "  ylab(\"Krippendorff's Alpha\")"
      ]
    },
    {
      "cell_type": "code",
      "execution_count": 30,
      "metadata": {
        "vscode": {
          "languageId": "r"
        }
      },
      "outputs": [],
      "source": [
        "# total_items is the total number of items (both positive and negative).\n",
        "# split_ratio is the proportion of positive items (a value between 0 and 1).\n",
        "\n",
        "calculate_krippendorff_alpha_with_split_ratio <- function(total_items, split_ratio, accuracy, n_raters_per_item, key) {\n",
        "    # Calculate n_pos and n_neg from total_items and split_ratio\n",
        "\n",
        "    n_pos <- round(total_items * split_ratio)\n",
        "    n_neg <- total_items - n_pos\n",
        "\n",
        "    # Create the data frame with true answers\n",
        "    d <- data.frame(item = rep(1:total_items, each = n_raters_per_item),\n",
        "                    true_answer = rep(c(rep(1, n_pos), rep(0, n_neg)), each = n_raters_per_item))\n",
        "\n",
        "    # Assign rater IDs and generate random numbers\n",
        "    d$rater <- rep(1:n_raters_per_item, times = total_items)\n",
        "    d$rand <- runif(nrow(d))\n",
        "\n",
        "    # Assign answers based on true_answer and accuracy\n",
        "    d$answer <- with(d, ifelse(true_answer == 1, ifelse(rand < accuracy, 1, 0), \n",
        "                              ifelse(rand < accuracy, 0, 1)))\n",
        "\n",
        "    # Transform data into matrix format for Krippendorff's alpha calculation\n",
        "    ratings_matrix <- d %>%\n",
        "      select(item, rater, answer) %>%\n",
        "      pivot_wider(names_from = rater, values_from = answer)\n",
        "\n",
        "    binary_ratings_matrix <- t(as.matrix(ratings_matrix[,-1]))\n",
        "\n",
        "    # Calculate Krippendorff's alpha\n",
        "    alpha <- kripp.alpha(binary_ratings_matrix, method = \"nominal\")\n",
        "\n",
        "    return(alpha$value)\n",
        "}\n",
        "\n",
        "calculate_gwets_ac1_with_split_ratio <- function(total_items, split_ratio, accuracy, n_raters_per_item, key) {\n",
        "    # Calculate n_pos and n_neg from total_items and split_ratio\n",
        "\n",
        "    n_pos <- round(total_items * split_ratio)\n",
        "    n_neg <- total_items - n_pos\n",
        "\n",
        "    # Create the data frame with true answers\n",
        "    d <- data.frame(item = rep(1:total_items, each = n_raters_per_item),\n",
        "                    true_answer = rep(c(rep(1, n_pos), rep(0, n_neg)), each = n_raters_per_item))\n",
        "\n",
        "    # Assign rater IDs and generate random numbers\n",
        "    d$rater <- rep(1:n_raters_per_item, times = total_items)\n",
        "    d$rand <- runif(nrow(d))\n",
        "\n",
        "    # Assign answers based on true_answer and accuracy\n",
        "    d$answer <- with(d, ifelse(true_answer == 1, ifelse(rand < accuracy, 1, 0), \n",
        "                              ifelse(rand < accuracy, 0, 1)))\n",
        "\n",
        "    # Transform data into matrix format for Krippendorff's alpha calculation\n",
        "    ratings_matrix <- d %>%\n",
        "      select(item, rater, answer) %>%\n",
        "      pivot_wider(names_from = rater, values_from = answer)\n",
        "\n",
        "    binary_ratings_matrix <- as.matrix(ratings_matrix[,-1])\n",
        "\n",
        "    ac1 <- irrCAC::gwet.ac1.raw(binary_ratings_matrix)\n",
        "\n",
        "\n",
        "    return(ac1$est$coeff.val)\n",
        "}\n",
        "\n"
      ]
    },
    {
      "cell_type": "code",
      "execution_count": 31,
      "metadata": {
        "vscode": {
          "languageId": "r"
        }
      },
      "outputs": [
        {
          "name": "stdout",
          "output_type": "stream",
          "text": [
            "[1] 0.6291095\n",
            "[1] 0.61711\n"
          ]
        }
      ],
      "source": [
        "# Total number of items\n",
        "total_items <- 200\n",
        "\n",
        "# Split ratio (proportion of positive items)\n",
        "split_ratio <- 0.4\n",
        "\n",
        "# Accuracy (probability of a rater giving a correct answer)\n",
        "accuracy <- 0.9\n",
        "\n",
        "# Number of raters per item\n",
        "n_raters_per_item <- 10\n",
        "\n",
        "# Calculate Krippendorff's alpha\n",
        "krippendorff_alpha <- calculate_krippendorff_alpha_with_split_ratio(total_items, split_ratio, accuracy, n_raters_per_item)\n",
        "gwets_ac1 <- calculate_gwets_ac1_with_split_ratio(total_items, split_ratio, accuracy, n_raters_per_item)\n",
        "\n",
        "# Print the result\n",
        "print(krippendorff_alpha)\n",
        "print(gwets_ac1)\n"
      ]
    },
    {
      "cell_type": "code",
      "execution_count": 32,
      "metadata": {
        "vscode": {
          "languageId": "r"
        }
      },
      "outputs": [
        {
          "data": {
            "text/html": [
              "<table class=\"dataframe\">\n",
              "<caption>A data.frame: 9 × 3</caption>\n",
              "<thead>\n",
              "\t<tr><th scope=col>SplitRatio</th><th scope=col>KrippendorffAlpha</th><th scope=col>GwetsAC1</th></tr>\n",
              "\t<tr><th scope=col>&lt;dbl&gt;</th><th scope=col>&lt;dbl&gt;</th><th scope=col>&lt;dbl&gt;</th></tr>\n",
              "</thead>\n",
              "<tbody>\n",
              "\t<tr><td>0.1</td><td>0.3405180</td><td>0.78432</td></tr>\n",
              "\t<tr><td>0.2</td><td>0.5541248</td><td>0.73684</td></tr>\n",
              "\t<tr><td>0.3</td><td>0.6105886</td><td>0.65825</td></tr>\n",
              "\t<tr><td>0.4</td><td>0.6729656</td><td>0.64205</td></tr>\n",
              "\t<tr><td>0.5</td><td>0.6226950</td><td>0.64987</td></tr>\n",
              "\t<tr><td>0.6</td><td>0.6456369</td><td>0.66564</td></tr>\n",
              "\t<tr><td>0.7</td><td>0.5850658</td><td>0.64571</td></tr>\n",
              "\t<tr><td>0.8</td><td>0.5197064</td><td>0.72516</td></tr>\n",
              "\t<tr><td>0.9</td><td>0.4016974</td><td>0.74275</td></tr>\n",
              "</tbody>\n",
              "</table>\n"
            ],
            "text/latex": [
              "A data.frame: 9 × 3\n",
              "\\begin{tabular}{lll}\n",
              " SplitRatio & KrippendorffAlpha & GwetsAC1\\\\\n",
              " <dbl> & <dbl> & <dbl>\\\\\n",
              "\\hline\n",
              "\t 0.1 & 0.3405180 & 0.78432\\\\\n",
              "\t 0.2 & 0.5541248 & 0.73684\\\\\n",
              "\t 0.3 & 0.6105886 & 0.65825\\\\\n",
              "\t 0.4 & 0.6729656 & 0.64205\\\\\n",
              "\t 0.5 & 0.6226950 & 0.64987\\\\\n",
              "\t 0.6 & 0.6456369 & 0.66564\\\\\n",
              "\t 0.7 & 0.5850658 & 0.64571\\\\\n",
              "\t 0.8 & 0.5197064 & 0.72516\\\\\n",
              "\t 0.9 & 0.4016974 & 0.74275\\\\\n",
              "\\end{tabular}\n"
            ],
            "text/markdown": [
              "\n",
              "A data.frame: 9 × 3\n",
              "\n",
              "| SplitRatio &lt;dbl&gt; | KrippendorffAlpha &lt;dbl&gt; | GwetsAC1 &lt;dbl&gt; |\n",
              "|---|---|---|\n",
              "| 0.1 | 0.3405180 | 0.78432 |\n",
              "| 0.2 | 0.5541248 | 0.73684 |\n",
              "| 0.3 | 0.6105886 | 0.65825 |\n",
              "| 0.4 | 0.6729656 | 0.64205 |\n",
              "| 0.5 | 0.6226950 | 0.64987 |\n",
              "| 0.6 | 0.6456369 | 0.66564 |\n",
              "| 0.7 | 0.5850658 | 0.64571 |\n",
              "| 0.8 | 0.5197064 | 0.72516 |\n",
              "| 0.9 | 0.4016974 | 0.74275 |\n",
              "\n"
            ],
            "text/plain": [
              "  SplitRatio KrippendorffAlpha GwetsAC1\n",
              "1 0.1        0.3405180         0.78432 \n",
              "2 0.2        0.5541248         0.73684 \n",
              "3 0.3        0.6105886         0.65825 \n",
              "4 0.4        0.6729656         0.64205 \n",
              "5 0.5        0.6226950         0.64987 \n",
              "6 0.6        0.6456369         0.66564 \n",
              "7 0.7        0.5850658         0.64571 \n",
              "8 0.8        0.5197064         0.72516 \n",
              "9 0.9        0.4016974         0.74275 "
            ]
          },
          "metadata": {},
          "output_type": "display_data"
        }
      ],
      "source": [
        "# Parameters for the function\n",
        "total_items <- 100  # Assuming a total of 100 items, adjust as needed\n",
        "accuracy <- 0.9  # Assuming a constant accuracy, adjust as needed\n",
        "n_raters_per_item <- 10  # Assuming 10 raters per item, adjust as needed\n",
        "split_ratios <- seq(0.1, 0.9, by = 0.1)  # Split ratios from 0.1 to 0.9\n",
        "\n",
        "# Initialize a data frame to store the results\n",
        "results <- data.frame(SplitRatio = split_ratios, KrippendorffAlpha = NA, GwetsAC1 = NA)\n",
        "\n",
        "# Calculate Krippendorff's alpha for each split ratio\n",
        "for (i in seq_along(split_ratios)) {\n",
        "  results$KrippendorffAlpha[i] <- calculate_krippendorff_alpha_with_split_ratio(\n",
        "    total_items, split_ratios[i], accuracy, n_raters_per_item, key = NULL  # key is not used in your function\n",
        "  )\n",
        "}\n",
        "\n",
        "# Calculate Krippendorff's alpha for each split ratio\n",
        "for (i in seq_along(split_ratios)) {\n",
        "  results$GwetsAC1[i] <- calculate_gwets_ac1_with_split_ratio(\n",
        "    total_items, split_ratios[i], accuracy, n_raters_per_item, key = NULL  # key is not used in your function\n",
        "  )\n",
        "}\n",
        "# Print the results\n",
        "results\n"
      ]
    },
    {
      "cell_type": "code",
      "execution_count": 43,
      "metadata": {
        "vscode": {
          "languageId": "r"
        }
      },
      "outputs": [
        {
          "data": {
            "text/html": [
              "<table class=\"dataframe\">\n",
              "<caption>A data.frame: 9 × 3</caption>\n",
              "<thead>\n",
              "\t<tr><th scope=col>SplitRatio</th><th scope=col>KrippendorffAlpha</th><th scope=col>GwetsAC1</th></tr>\n",
              "\t<tr><th scope=col>&lt;dbl&gt;</th><th scope=col>&lt;dbl&gt;</th><th scope=col>&lt;dbl&gt;</th></tr>\n",
              "</thead>\n",
              "<tbody>\n",
              "\t<tr><td>0.1</td><td>0.3956169</td><td>0.7430874</td></tr>\n",
              "\t<tr><td>0.2</td><td>0.5287165</td><td>0.7064870</td></tr>\n",
              "\t<tr><td>0.3</td><td>0.5977423</td><td>0.6737090</td></tr>\n",
              "\t<tr><td>0.4</td><td>0.6300162</td><td>0.6497878</td></tr>\n",
              "\t<tr><td>0.5</td><td>0.6371377</td><td>0.6410052</td></tr>\n",
              "\t<tr><td>0.6</td><td>0.6313152</td><td>0.6498606</td></tr>\n",
              "\t<tr><td>0.7</td><td>0.5989684</td><td>0.6722238</td></tr>\n",
              "\t<tr><td>0.8</td><td>0.5301971</td><td>0.7064716</td></tr>\n",
              "\t<tr><td>0.9</td><td>0.3909193</td><td>0.7474596</td></tr>\n",
              "</tbody>\n",
              "</table>\n"
            ],
            "text/latex": [
              "A data.frame: 9 × 3\n",
              "\\begin{tabular}{lll}\n",
              " SplitRatio & KrippendorffAlpha & GwetsAC1\\\\\n",
              " <dbl> & <dbl> & <dbl>\\\\\n",
              "\\hline\n",
              "\t 0.1 & 0.3956169 & 0.7430874\\\\\n",
              "\t 0.2 & 0.5287165 & 0.7064870\\\\\n",
              "\t 0.3 & 0.5977423 & 0.6737090\\\\\n",
              "\t 0.4 & 0.6300162 & 0.6497878\\\\\n",
              "\t 0.5 & 0.6371377 & 0.6410052\\\\\n",
              "\t 0.6 & 0.6313152 & 0.6498606\\\\\n",
              "\t 0.7 & 0.5989684 & 0.6722238\\\\\n",
              "\t 0.8 & 0.5301971 & 0.7064716\\\\\n",
              "\t 0.9 & 0.3909193 & 0.7474596\\\\\n",
              "\\end{tabular}\n"
            ],
            "text/markdown": [
              "\n",
              "A data.frame: 9 × 3\n",
              "\n",
              "| SplitRatio &lt;dbl&gt; | KrippendorffAlpha &lt;dbl&gt; | GwetsAC1 &lt;dbl&gt; |\n",
              "|---|---|---|\n",
              "| 0.1 | 0.3956169 | 0.7430874 |\n",
              "| 0.2 | 0.5287165 | 0.7064870 |\n",
              "| 0.3 | 0.5977423 | 0.6737090 |\n",
              "| 0.4 | 0.6300162 | 0.6497878 |\n",
              "| 0.5 | 0.6371377 | 0.6410052 |\n",
              "| 0.6 | 0.6313152 | 0.6498606 |\n",
              "| 0.7 | 0.5989684 | 0.6722238 |\n",
              "| 0.8 | 0.5301971 | 0.7064716 |\n",
              "| 0.9 | 0.3909193 | 0.7474596 |\n",
              "\n"
            ],
            "text/plain": [
              "  SplitRatio KrippendorffAlpha GwetsAC1 \n",
              "1 0.1        0.3956169         0.7430874\n",
              "2 0.2        0.5287165         0.7064870\n",
              "3 0.3        0.5977423         0.6737090\n",
              "4 0.4        0.6300162         0.6497878\n",
              "5 0.5        0.6371377         0.6410052\n",
              "6 0.6        0.6313152         0.6498606\n",
              "7 0.7        0.5989684         0.6722238\n",
              "8 0.8        0.5301971         0.7064716\n",
              "9 0.9        0.3909193         0.7474596"
            ]
          },
          "metadata": {},
          "output_type": "display_data"
        }
      ],
      "source": [
        "# Parameters for the function\n",
        "total_items <- 100  # Assuming a total of 100 items\n",
        "accuracy <- 0.9  # Assuming a constant accuracy\n",
        "n_raters_per_item <- 50  # Assuming 10 raters per item\n",
        "split_ratios <- seq(0.1, 0.9, by = 0.1)  # Split ratios from 0.1 to 0.9\n",
        "n_simulations <- 50  # Number of simulations for each split ratio\n",
        "\n",
        "# Initialize a data frame to store the results\n",
        "results <- data.frame(SplitRatio = split_ratios, KrippendorffAlpha = NA, GwetsAC1 = NA)\n",
        "\n",
        "# Calculate Krippendorff's alpha and Gwet's AC1 for each split ratio\n",
        "for (i in seq_along(split_ratios)) {\n",
        "  # Initialize vectors to store the results of the simulations\n",
        "  alpha_values <- numeric(n_simulations)\n",
        "  ac1_values <- numeric(n_simulations)\n",
        "\n",
        "  # Perform calculations multiple times and store the results\n",
        "  for (j in 1:n_simulations) {\n",
        "    alpha_values[j] <- calculate_krippendorff_alpha_with_split_ratio(\n",
        "    total_items, split_ratios[i], accuracy, n_raters_per_item, key = NULL)\n",
        "    \n",
        "    ac1_values[j] <- calculate_gwets_ac1_with_split_ratio(\n",
        "    total_items, split_ratios[i], accuracy, n_raters_per_item, key = NULL)\n",
        "    }\n",
        "\n",
        "  # Calculate the average of the simulations for each metric\n",
        "  results$KrippendorffAlpha[i] <- mean(alpha_values)\n",
        "  results$GwetsAC1[i] <- mean(ac1_values)\n",
        "  }\n",
        "\n",
        "results\n"
      ]
    },
    {
      "cell_type": "code",
      "execution_count": 44,
      "metadata": {
        "vscode": {
          "languageId": "r"
        }
      },
      "outputs": [
        {
          "name": "stdout",
          "output_type": "stream",
          "text": [
            " [1] 0.3982580 0.3869840 0.4023438 0.4224718 0.3985907 0.4074570 0.3829558\n",
            " [8] 0.3729316 0.4014456 0.4078125 0.3901529 0.3896698 0.3970491 0.4094968\n",
            "[15] 0.4039642 0.4019184 0.3863831 0.3813737 0.4050931 0.3835703 0.3820813\n",
            "[22] 0.3897108 0.3846915 0.3842697 0.3775870 0.3868448 0.3744287 0.3931189\n",
            "[29] 0.3849734 0.3840489 0.3742966 0.3912852 0.3992936 0.3741792 0.3637562\n",
            "[36] 0.3617374 0.4169143 0.3975831 0.3847034 0.3946094 0.4075455 0.3902599\n",
            "[43] 0.3789895 0.3804788 0.3975521 0.3960653 0.3828731 0.3973064 0.3844051\n",
            "[50] 0.4004554\n",
            " [1] 0.75300 0.73291 0.74411 0.75109 0.74812 0.74925 0.75977 0.74246 0.76371\n",
            "[10] 0.72981 0.75906 0.72958 0.74815 0.73298 0.72940 0.75065 0.75646 0.75907\n",
            "[19] 0.75668 0.74434 0.72831 0.75003 0.73956 0.74957 0.76999 0.74960 0.75563\n",
            "[28] 0.73668 0.74732 0.75953 0.77256 0.74067 0.73933 0.76136 0.73170 0.75264\n",
            "[37] 0.74852 0.74195 0.74055 0.72776 0.76238 0.74108 0.75178 0.75968 0.75582\n",
            "[46] 0.74285 0.74199 0.75102 0.73585 0.74667\n"
          ]
        }
      ],
      "source": [
        "print(alpha_values)\n",
        "print(ac1_values)"
      ]
    },
    {
      "cell_type": "code",
      "execution_count": 45,
      "metadata": {
        "vscode": {
          "languageId": "r"
        }
      },
      "outputs": [
        {
          "data": {
            "image/png": "[encoded data removed]",
            "text/plain": [
              "plot without title"
            ]
          },
          "metadata": {
            "image/png": {
              "height": 420,
              "width": 420
            }
          },
          "output_type": "display_data"
        }
      ],
      "source": [
        "library(ggplot2)\n",
        "\n",
        "# Assuming 'results' is already populated with the Krippendorff's Alpha and Gwet's AC1 values\n",
        "# Reshape data for plotting with ggplot2\n",
        "results_long <- tidyr::pivot_longer(results, cols = c(\"KrippendorffAlpha\", \"GwetsAC1\"), \n",
        "                                    names_to = \"Metric\", values_to = \"Value\")\n",
        "\n",
        "# Create the plot with two lines for each metric\n",
        "ggplot(results_long, aes(x = SplitRatio, y = Value, color = Metric, group = Metric)) +\n",
        "  geom_line() +  # Add line\n",
        "  geom_point() +  # Add points\n",
        "  scale_color_manual(values = c(\"blue\", \"red\")) +  # Set custom colors for lines\n",
        "  theme_minimal() +  # Minimal theme\n",
        "  labs(x = \"Split Ratio\", y = \"Metric Value\", color = \"Metric\", \n",
        "       title = \"Comparison of Krippendorff's Alpha and Gwet's AC1\") +\n",
        "  theme(plot.title = element_text(hjust = 0.5))  # Center the plot title\n",
        "\n",
        "# Display the plot\n",
        "ggsave(\"Krippendorff_vs_GwetsAC1.png\", width = 8, height = 6)  # Save the plot as a PNG file\n"
      ]
    },
    {
      "cell_type": "code",
      "execution_count": 59,
      "metadata": {
        "vscode": {
          "languageId": "r"
        }
      },
      "outputs": [],
      "source": [
        "library(reshape2)\n",
        "\n",
        "# Example usage of the function\n",
        "total_items <- 100  # Adjust as needed\n",
        "n_raters_per_item <- 5  # Adjust as needed\n",
        "n_simulations <- 10  # Number of simulations for each combination\n",
        "\n",
        "# Define accuracies and split ratios\n",
        "accuracies <- seq(0.5, 0.9, by = 0.1)\n",
        "split_ratios <- c(0.1, 0.2, 0.3, 0.4, 0.5, 0.6, 0.7, 0.8, 0.9)\n",
        "\n",
        "# Create an empty data frame to store results\n",
        "results_alpha <- expand.grid(accuracy = accuracies, split_ratio = split_ratios)\n",
        "results_alpha$KA <- NA  # Add a column to store Krippendorff's alpha\n",
        "\n",
        "# Calculate Krippendorff's alpha for each combination of accuracy and split ratio\n",
        "for (i in 1:nrow(results_alpha)) {\n",
        "  ka_values <- numeric(n_simulations)\n",
        "  for (j in 1:n_simulations) {\n",
        "    ka_values[j] <- calculate_krippendorff_alpha_with_split_ratio(\n",
        "      total_items, results_alpha$split_ratio[i], results_alpha$accuracy[i], n_raters_per_item)\n",
        "  }\n",
        "  results_alpha$KA[i] <- mean(ka_values)\n",
        "}\n",
        "\n",
        "# Reshape the data for presentation\n",
        "results_table_alpha <- dcast(results_alpha, accuracy ~ split_ratio, value.var = \"KA\")\n",
        "\n",
        "\n",
        "\n",
        "#____________________________________________________________________________________\n",
        "\n",
        "# Create an empty data frame to store results\n",
        "results_ac1 <- expand.grid(accuracy = accuracies, split_ratio = split_ratios)\n",
        "results_ac1$AC1 <- NA  # Add a column to store Krippendorff's alpha\n",
        "\n",
        "# Calculate Krippendorff's alpha for each combination of accuracy and split ratio\n",
        "for (i in 1:nrow(results_ac1)) {\n",
        "  ac1_values <- numeric(n_simulations)\n",
        "  for (j in 1:n_simulations) {\n",
        "    ac1_values[j] <- calculate_gwets_ac1_with_split_ratio(\n",
        "      total_items, results_ac1$split_ratio[i], results_ac1$accuracy[i], n_raters_per_item)\n",
        "  }\n",
        "  results_ac1$AC1[i] <- mean(ac1_values)\n",
        "}\n",
        "\n",
        "# Reshape the data for presentation\n",
        "results_table_ac1 <- dcast(results_ac1, accuracy ~ split_ratio, value.var = \"AC1\")"
      ]
    },
    {
      "cell_type": "code",
      "execution_count": 60,
      "metadata": {
        "vscode": {
          "languageId": "r"
        }
      },
      "outputs": [
        {
          "data": {
            "text/html": [
              "<table class=\"dataframe\">\n",
              "<caption>A data.frame: 5 × 10</caption>\n",
              "<thead>\n",
              "\t<tr><th scope=col>accuracy</th><th scope=col>0.1</th><th scope=col>0.2</th><th scope=col>0.3</th><th scope=col>0.4</th><th scope=col>0.5</th><th scope=col>0.6</th><th scope=col>0.7</th><th scope=col>0.8</th><th scope=col>0.9</th></tr>\n",
              "\t<tr><th scope=col>&lt;dbl&gt;</th><th scope=col>&lt;dbl&gt;</th><th scope=col>&lt;dbl&gt;</th><th scope=col>&lt;dbl&gt;</th><th scope=col>&lt;dbl&gt;</th><th scope=col>&lt;dbl&gt;</th><th scope=col>&lt;dbl&gt;</th><th scope=col>&lt;dbl&gt;</th><th scope=col>&lt;dbl&gt;</th><th scope=col>&lt;dbl&gt;</th></tr>\n",
              "</thead>\n",
              "<tbody>\n",
              "\t<tr><td>0.5</td><td>-0.0004827851</td><td>-0.01686888</td><td>-0.0008066394</td><td>-0.002170839</td><td>0.005325856</td><td>-0.02332398</td><td>-0.002579849</td><td>0.01556156</td><td>-0.016934200</td></tr>\n",
              "\t<tr><td>0.6</td><td> 0.0072743048</td><td> 0.01316546</td><td> 0.0126294580</td><td> 0.018574013</td><td>0.029336064</td><td> 0.03188098</td><td> 0.014451496</td><td>0.01235661</td><td> 0.008289611</td></tr>\n",
              "\t<tr><td>0.7</td><td> 0.0554263874</td><td> 0.11340088</td><td> 0.1535402457</td><td> 0.157125894</td><td>0.170076958</td><td> 0.16133899</td><td> 0.145061961</td><td>0.09029618</td><td> 0.060194623</td></tr>\n",
              "\t<tr><td>0.8</td><td> 0.1414796601</td><td> 0.26405222</td><td> 0.3200579999</td><td> 0.374869771</td><td>0.365995404</td><td> 0.33522667</td><td> 0.298425532</td><td>0.24990438</td><td> 0.179181481</td></tr>\n",
              "\t<tr><td>0.9</td><td> 0.3990815286</td><td> 0.55145115</td><td> 0.6140917804</td><td> 0.616792267</td><td>0.641521548</td><td> 0.63088586</td><td> 0.606873473</td><td>0.53125809</td><td> 0.393894485</td></tr>\n",
              "</tbody>\n",
              "</table>\n"
            ],
            "text/latex": [
              "A data.frame: 5 × 10\n",
              "\\begin{tabular}{llllllllll}\n",
              " accuracy & 0.1 & 0.2 & 0.3 & 0.4 & 0.5 & 0.6 & 0.7 & 0.8 & 0.9\\\\\n",
              " <dbl> & <dbl> & <dbl> & <dbl> & <dbl> & <dbl> & <dbl> & <dbl> & <dbl> & <dbl>\\\\\n",
              "\\hline\n",
              "\t 0.5 & -0.0004827851 & -0.01686888 & -0.0008066394 & -0.002170839 & 0.005325856 & -0.02332398 & -0.002579849 & 0.01556156 & -0.016934200\\\\\n",
              "\t 0.6 &  0.0072743048 &  0.01316546 &  0.0126294580 &  0.018574013 & 0.029336064 &  0.03188098 &  0.014451496 & 0.01235661 &  0.008289611\\\\\n",
              "\t 0.7 &  0.0554263874 &  0.11340088 &  0.1535402457 &  0.157125894 & 0.170076958 &  0.16133899 &  0.145061961 & 0.09029618 &  0.060194623\\\\\n",
              "\t 0.8 &  0.1414796601 &  0.26405222 &  0.3200579999 &  0.374869771 & 0.365995404 &  0.33522667 &  0.298425532 & 0.24990438 &  0.179181481\\\\\n",
              "\t 0.9 &  0.3990815286 &  0.55145115 &  0.6140917804 &  0.616792267 & 0.641521548 &  0.63088586 &  0.606873473 & 0.53125809 &  0.393894485\\\\\n",
              "\\end{tabular}\n"
            ],
            "text/markdown": [
              "\n",
              "A data.frame: 5 × 10\n",
              "\n",
              "| accuracy &lt;dbl&gt; | 0.1 &lt;dbl&gt; | 0.2 &lt;dbl&gt; | 0.3 &lt;dbl&gt; | 0.4 &lt;dbl&gt; | 0.5 &lt;dbl&gt; | 0.6 &lt;dbl&gt; | 0.7 &lt;dbl&gt; | 0.8 &lt;dbl&gt; | 0.9 &lt;dbl&gt; |\n",
              "|---|---|---|---|---|---|---|---|---|---|\n",
              "| 0.5 | -0.0004827851 | -0.01686888 | -0.0008066394 | -0.002170839 | 0.005325856 | -0.02332398 | -0.002579849 | 0.01556156 | -0.016934200 |\n",
              "| 0.6 |  0.0072743048 |  0.01316546 |  0.0126294580 |  0.018574013 | 0.029336064 |  0.03188098 |  0.014451496 | 0.01235661 |  0.008289611 |\n",
              "| 0.7 |  0.0554263874 |  0.11340088 |  0.1535402457 |  0.157125894 | 0.170076958 |  0.16133899 |  0.145061961 | 0.09029618 |  0.060194623 |\n",
              "| 0.8 |  0.1414796601 |  0.26405222 |  0.3200579999 |  0.374869771 | 0.365995404 |  0.33522667 |  0.298425532 | 0.24990438 |  0.179181481 |\n",
              "| 0.9 |  0.3990815286 |  0.55145115 |  0.6140917804 |  0.616792267 | 0.641521548 |  0.63088586 |  0.606873473 | 0.53125809 |  0.393894485 |\n",
              "\n"
            ],
            "text/plain": [
              "  accuracy 0.1           0.2         0.3           0.4          0.5        \n",
              "1 0.5      -0.0004827851 -0.01686888 -0.0008066394 -0.002170839 0.005325856\n",
              "2 0.6       0.0072743048  0.01316546  0.0126294580  0.018574013 0.029336064\n",
              "3 0.7       0.0554263874  0.11340088  0.1535402457  0.157125894 0.170076958\n",
              "4 0.8       0.1414796601  0.26405222  0.3200579999  0.374869771 0.365995404\n",
              "5 0.9       0.3990815286  0.55145115  0.6140917804  0.616792267 0.641521548\n",
              "  0.6         0.7          0.8        0.9         \n",
              "1 -0.02332398 -0.002579849 0.01556156 -0.016934200\n",
              "2  0.03188098  0.014451496 0.01235661  0.008289611\n",
              "3  0.16133899  0.145061961 0.09029618  0.060194623\n",
              "4  0.33522667  0.298425532 0.24990438  0.179181481\n",
              "5  0.63088586  0.606873473 0.53125809  0.393894485"
            ]
          },
          "metadata": {},
          "output_type": "display_data"
        },
        {
          "data": {
            "text/html": [
              "<table class=\"dataframe\">\n",
              "<caption>A data.frame: 5 × 10</caption>\n",
              "<thead>\n",
              "\t<tr><th scope=col>accuracy</th><th scope=col>0.1</th><th scope=col>0.2</th><th scope=col>0.3</th><th scope=col>0.4</th><th scope=col>0.5</th><th scope=col>0.6</th><th scope=col>0.7</th><th scope=col>0.8</th><th scope=col>0.9</th></tr>\n",
              "\t<tr><th scope=col>&lt;dbl&gt;</th><th scope=col>&lt;dbl&gt;</th><th scope=col>&lt;dbl&gt;</th><th scope=col>&lt;dbl&gt;</th><th scope=col>&lt;dbl&gt;</th><th scope=col>&lt;dbl&gt;</th><th scope=col>&lt;dbl&gt;</th><th scope=col>&lt;dbl&gt;</th><th scope=col>&lt;dbl&gt;</th><th scope=col>&lt;dbl&gt;</th></tr>\n",
              "</thead>\n",
              "<tbody>\n",
              "\t<tr><td>0.5</td><td>0.002596</td><td>-0.002840</td><td>-0.006247</td><td>-0.006175</td><td>0.002482</td><td>-0.004200</td><td>0.010452</td><td>0.002072</td><td>-0.000701</td></tr>\n",
              "\t<tr><td>0.6</td><td>0.060147</td><td> 0.053635</td><td> 0.027956</td><td> 0.041667</td><td>0.057943</td><td> 0.047892</td><td>0.038131</td><td>0.028310</td><td> 0.061313</td></tr>\n",
              "\t<tr><td>0.7</td><td>0.212120</td><td> 0.177313</td><td> 0.182860</td><td> 0.168169</td><td>0.173509</td><td> 0.192284</td><td>0.178992</td><td>0.190253</td><td> 0.252911</td></tr>\n",
              "\t<tr><td>0.8</td><td>0.500840</td><td> 0.444457</td><td> 0.396556</td><td> 0.359359</td><td>0.357419</td><td> 0.372759</td><td>0.382158</td><td>0.443644</td><td> 0.488864</td></tr>\n",
              "\t<tr><td>0.9</td><td>0.761892</td><td> 0.695511</td><td> 0.652329</td><td> 0.665087</td><td>0.651108</td><td> 0.630557</td><td>0.684687</td><td>0.707449</td><td> 0.760134</td></tr>\n",
              "</tbody>\n",
              "</table>\n"
            ],
            "text/latex": [
              "A data.frame: 5 × 10\n",
              "\\begin{tabular}{llllllllll}\n",
              " accuracy & 0.1 & 0.2 & 0.3 & 0.4 & 0.5 & 0.6 & 0.7 & 0.8 & 0.9\\\\\n",
              " <dbl> & <dbl> & <dbl> & <dbl> & <dbl> & <dbl> & <dbl> & <dbl> & <dbl> & <dbl>\\\\\n",
              "\\hline\n",
              "\t 0.5 & 0.002596 & -0.002840 & -0.006247 & -0.006175 & 0.002482 & -0.004200 & 0.010452 & 0.002072 & -0.000701\\\\\n",
              "\t 0.6 & 0.060147 &  0.053635 &  0.027956 &  0.041667 & 0.057943 &  0.047892 & 0.038131 & 0.028310 &  0.061313\\\\\n",
              "\t 0.7 & 0.212120 &  0.177313 &  0.182860 &  0.168169 & 0.173509 &  0.192284 & 0.178992 & 0.190253 &  0.252911\\\\\n",
              "\t 0.8 & 0.500840 &  0.444457 &  0.396556 &  0.359359 & 0.357419 &  0.372759 & 0.382158 & 0.443644 &  0.488864\\\\\n",
              "\t 0.9 & 0.761892 &  0.695511 &  0.652329 &  0.665087 & 0.651108 &  0.630557 & 0.684687 & 0.707449 &  0.760134\\\\\n",
              "\\end{tabular}\n"
            ],
            "text/markdown": [
              "\n",
              "A data.frame: 5 × 10\n",
              "\n",
              "| accuracy &lt;dbl&gt; | 0.1 &lt;dbl&gt; | 0.2 &lt;dbl&gt; | 0.3 &lt;dbl&gt; | 0.4 &lt;dbl&gt; | 0.5 &lt;dbl&gt; | 0.6 &lt;dbl&gt; | 0.7 &lt;dbl&gt; | 0.8 &lt;dbl&gt; | 0.9 &lt;dbl&gt; |\n",
              "|---|---|---|---|---|---|---|---|---|---|\n",
              "| 0.5 | 0.002596 | -0.002840 | -0.006247 | -0.006175 | 0.002482 | -0.004200 | 0.010452 | 0.002072 | -0.000701 |\n",
              "| 0.6 | 0.060147 |  0.053635 |  0.027956 |  0.041667 | 0.057943 |  0.047892 | 0.038131 | 0.028310 |  0.061313 |\n",
              "| 0.7 | 0.212120 |  0.177313 |  0.182860 |  0.168169 | 0.173509 |  0.192284 | 0.178992 | 0.190253 |  0.252911 |\n",
              "| 0.8 | 0.500840 |  0.444457 |  0.396556 |  0.359359 | 0.357419 |  0.372759 | 0.382158 | 0.443644 |  0.488864 |\n",
              "| 0.9 | 0.761892 |  0.695511 |  0.652329 |  0.665087 | 0.651108 |  0.630557 | 0.684687 | 0.707449 |  0.760134 |\n",
              "\n"
            ],
            "text/plain": [
              "  accuracy 0.1      0.2       0.3       0.4       0.5      0.6       0.7     \n",
              "1 0.5      0.002596 -0.002840 -0.006247 -0.006175 0.002482 -0.004200 0.010452\n",
              "2 0.6      0.060147  0.053635  0.027956  0.041667 0.057943  0.047892 0.038131\n",
              "3 0.7      0.212120  0.177313  0.182860  0.168169 0.173509  0.192284 0.178992\n",
              "4 0.8      0.500840  0.444457  0.396556  0.359359 0.357419  0.372759 0.382158\n",
              "5 0.9      0.761892  0.695511  0.652329  0.665087 0.651108  0.630557 0.684687\n",
              "  0.8      0.9      \n",
              "1 0.002072 -0.000701\n",
              "2 0.028310  0.061313\n",
              "3 0.190253  0.252911\n",
              "4 0.443644  0.488864\n",
              "5 0.707449  0.760134"
            ]
          },
          "metadata": {},
          "output_type": "display_data"
        }
      ],
      "source": [
        "results_table_alpha\n",
        "results_table_ac1"
      ]
    },
    {
      "cell_type": "code",
      "execution_count": 74,
      "metadata": {
        "vscode": {
          "languageId": "r"
        }
      },
      "outputs": [
        {
          "name": "stdout",
          "output_type": "stream",
          "text": [
            "  accuracy  0.1   0.2  0.3  0.4  0.5   0.6  0.7  0.8   0.9\n",
            "1      0.5 0.00 -0.02 0.00 0.00 0.01 -0.02 0.00 0.02 -0.02\n",
            "2      0.6 0.01  0.01 0.01 0.02 0.03  0.03 0.01 0.01  0.01\n",
            "3      0.7 0.06  0.11 0.15 0.16 0.17  0.16 0.15 0.09  0.06\n",
            "4      0.8 0.14  0.26 0.32 0.37 0.37  0.34 0.30 0.25  0.18\n",
            "5      0.9 0.40  0.55 0.61 0.62 0.64  0.63 0.61 0.53  0.39\n"
          ]
        }
      ],
      "source": [
        "# Assuming results_table is already created\n",
        "\n",
        "# Apply the rounding to each numeric column\n",
        "results_table_alpha_rounded <- results_table_alpha\n",
        "numeric_columns <- sapply(results_table_alpha_rounded, is.numeric)\n",
        "results_table_alpha_rounded[numeric_columns] <- round(results_table_alpha_rounded[numeric_columns], 2)\n",
        "\n",
        "# Print the rounded results table\n",
        "print(results_table_alpha_rounded)\n"
      ]
    },
    {
      "cell_type": "code",
      "execution_count": 57,
      "metadata": {
        "vscode": {
          "languageId": "r"
        }
      },
      "outputs": [
        {
          "data": {
            "image/png": "[encoded data removed]",
            "text/plain": [
              "plot without title"
            ]
          },
          "metadata": {
            "image/png": {
              "height": 420,
              "width": 420
            }
          },
          "output_type": "display_data"
        }
      ],
      "source": [
        "library(ggplot2)\n",
        "library(reshape2)\n",
        "\n",
        "# Assuming your results_table is already created and looks like the one you described\n",
        "\n",
        "# Reshape the data into a long format for plotting\n",
        "results_long <- melt(results_table_alpha, id.vars = \"accuracy\", variable.name = \"split_ratio\", value.name = \"kripp_alpha\")\n",
        "\n",
        "# Convert split_ratio from factor to numeric for plotting\n",
        "results_long$split_ratio <- as.numeric(as.character(results_long$split_ratio))\n",
        "\n",
        "# Create the plot\n",
        "ggplot(results_long, aes(x = split_ratio, y = kripp_alpha, group = accuracy, color = as.factor(accuracy))) +\n",
        "  geom_line() +  # Add lines\n",
        "  geom_point() +  # Add points\n",
        "  theme_minimal() +  # Use a minimal theme\n",
        "  labs(x = \"Split Ratio\", y = \"Krippendorff's Alpha\", color = \"Accuracy\") +\n",
        "  ggtitle(\"Krippendorff's Alpha vs. Split Ratio for Different Accuracies\") +\n",
        "  theme(plot.title = element_text(hjust = 0.5))  # Center the plot title\n",
        "\n",
        "# Display the plot"
      ]
    },
    {
      "cell_type": "code",
      "execution_count": 62,
      "metadata": {
        "vscode": {
          "languageId": "r"
        }
      },
      "outputs": [
        {
          "data": {
            "image/png": "[encoded data removed]",
            "text/plain": [
              "plot without title"
            ]
          },
          "metadata": {
            "image/png": {
              "height": 420,
              "width": 420
            }
          },
          "output_type": "display_data"
        }
      ],
      "source": [
        "# Reshape the data into a long format for plotting\n",
        "results_long <- melt(results_table_ac1, id.vars = \"accuracy\", variable.name = \"split_ratio\", value.name = \"kripp_alpha\")\n",
        "\n",
        "# Convert split_ratio from factor to numeric for plotting\n",
        "results_long$split_ratio <- as.numeric(as.character(results_long$split_ratio))\n",
        "\n",
        "# Create the plot\n",
        "ggplot(results_long, aes(x = split_ratio, y = kripp_alpha, group = accuracy, color = as.factor(accuracy))) +\n",
        "  geom_line() +  # Add lines\n",
        "  geom_point() +  # Add points\n",
        "  theme_minimal() +  # Use a minimal theme\n",
        "  labs(x = \"Split Ratio\", y = \"Gwet's AC1\", color = \"Accuracy\") +\n",
        "  ggtitle(\"Gwet's AC1 vs. Split Ratio for Different Accuracies\") +\n",
        "  theme(plot.title = element_text(hjust = 0.5))  # Center the plot title\n",
        "\n",
        "# Display the plot\n"
      ]
    },
    {
      "cell_type": "code",
      "execution_count": 2,
      "metadata": {
        "vscode": {
          "languageId": "r"
        }
      },
      "outputs": [
        {
          "name": "stderr",
          "output_type": "stream",
          "text": [
            "Loading required package: lpSolve\n",
            "\n"
          ]
        }
      ],
      "source": [
        "# Install and load required packages\n",
        "if (!requireNamespace(\"irr\", quietly = TRUE)) {\n",
        "  install.packages(\"irr\")\n",
        "}\n",
        "library(irr)\n"
      ]
    },
    {
      "cell_type": "code",
      "execution_count": 11,
      "metadata": {
        "vscode": {
          "languageId": "r"
        }
      },
      "outputs": [
        {
          "name": "stdout",
          "output_type": "stream",
          "text": [
            "95% Bootstrap Confidence Interval: 0.1715008 0.323935 \n"
          ]
        },
        {
          "data": {
            "image/png": "[encoded data removed]",
            "text/plain": [
              "Plot with title \"Bootstrap Distribution of Krippendorff's Alpha\""
            ]
          },
          "metadata": {
            "image/png": {
              "height": 420,
              "width": 420
            }
          },
          "output_type": "display_data"
        }
      ],
      "source": [
        "# Set seed for reproducibility\n",
        "set.seed(42)\n",
        "\n",
        "# Assuming binary_ratings_matrix is your data matrix\n",
        "\n",
        "num_bootstraps <- 500  # choose the desired number of bootstrap samples\n",
        "\n",
        "bootstrap_alphas <- replicate(num_bootstraps, {\n",
        "  # Sample with replacement\n",
        "  bootstrap_sample <- binary_ratings_matrix[sample(nrow(binary_ratings_matrix), replace = TRUE), ]\n",
        "  # Compute Krippendorff's alpha for the bootstrap sample\n",
        "  irr::kripp.alpha(bootstrap_sample, method = \"nominal\")$value\n",
        "})\n",
        "\n",
        "# Calculate confidence intervals\n",
        "alpha_ci <- quantile(bootstrap_alphas, c(0.025, 0.975))\n",
        "\n",
        "# Print the original alpha and confidence intervals\n",
        "# cat(\"Original Alpha:\", alpha_result$value, \"\\n\")\n",
        "cat(\"95% Bootstrap Confidence Interval:\", alpha_ci, \"\\n\")\n",
        "\n",
        "# Create a boxplot\n",
        "boxplot(bootstrap_alphas, main = \"Bootstrap Distribution of Krippendorff's Alpha\",\n",
        "        xlab = \"Bootstrap Samples\", ylab = \"Krippendorff's Alpha\",\n",
        "        col = \"lightblue\", border = \"black\", notch = TRUE)\n"
      ]
    },
    {
      "cell_type": "code",
      "execution_count": null,
      "metadata": {
        "vscode": {
          "languageId": "r"
        }
      },
      "outputs": [],
      "source": []
    }
  ],
  "metadata": {
    "colab": {
      "provenance": []
    },
    "kernelspec": {
      "display_name": "R",
      "language": "R",
      "name": "ir"
    },
    "language_info": {
      "codemirror_mode": "r",
      "file_extension": ".r",
      "mimetype": "text/x-r-source",
      "name": "R",
      "pygments_lexer": "r",
      "version": "4.3.2"
    }
  },
  "nbformat": 4,
  "nbformat_minor": 0
}
