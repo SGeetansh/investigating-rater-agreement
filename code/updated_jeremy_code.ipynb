{
  "cells": [
    {
      "cell_type": "markdown",
      "metadata": {},
      "source": [
        "What does the code do till now:\n",
        "- Defines the amount of positive and negative items. \n",
        "- Defines the probability that a rater gives correct answer to the true positive and the true negative\n",
        "- Also defines the number of raters per item\n",
        "\n",
        "The Data Generation process:\n",
        "- We then define the dataframe with item, true_answer and rater_id\n",
        "- We add a randon number between 0 and 1 as a column\n",
        "- Based on the random number, if the rand < p_true_pos, we add 1 else 0. Same for true negative but 0 and 1\n",
        "- At the end we generate a table which captures the fraction of correct answers given by raters\n",
        "- We also create a frequency table of the answer column"
      ]
    },
    {
      "cell_type": "code",
      "execution_count": 20,
      "metadata": {
        "vscode": {
          "languageId": "r"
        }
      },
      "outputs": [
        {
          "name": "stderr",
          "output_type": "stream",
          "text": [
            "Installing package into 'C:/Users/saxen/AppData/Local/R/win-library/4.3'\n",
            "(as 'lib' is unspecified)\n",
            "\n"
          ]
        },
        {
          "name": "stdout",
          "output_type": "stream",
          "text": [
            "package 'dplyr' successfully unpacked and MD5 sums checked\n"
          ]
        },
        {
          "name": "stderr",
          "output_type": "stream",
          "text": [
            "Warning message:\n",
            "\"cannot remove prior installation of package 'dplyr'\"\n",
            "Warning message in file.copy(savedcopy, lib, recursive = TRUE):\n",
            "\"problem copying C:\\Users\\saxen\\AppData\\Local\\R\\win-library\\4.3\\00LOCK\\dplyr\\libs\\x64\\dplyr.dll to C:\\Users\\saxen\\AppData\\Local\\R\\win-library\\4.3\\dplyr\\libs\\x64\\dplyr.dll: Permission denied\"\n",
            "Warning message:\n",
            "\"restored 'dplyr'\"\n"
          ]
        },
        {
          "name": "stdout",
          "output_type": "stream",
          "text": [
            "\n",
            "The downloaded binary packages are in\n",
            "\tC:\\Users\\saxen\\AppData\\Local\\Temp\\RtmpghYNSF\\downloaded_packages\n"
          ]
        },
        {
          "name": "stderr",
          "output_type": "stream",
          "text": [
            "Installing package into 'C:/Users/saxen/AppData/Local/R/win-library/4.3'\n",
            "(as 'lib' is unspecified)\n",
            "\n"
          ]
        },
        {
          "name": "stdout",
          "output_type": "stream",
          "text": [
            "package 'magrittr' successfully unpacked and MD5 sums checked\n"
          ]
        },
        {
          "name": "stderr",
          "output_type": "stream",
          "text": [
            "Warning message:\n",
            "\"cannot remove prior installation of package 'magrittr'\"\n",
            "Warning message in file.copy(savedcopy, lib, recursive = TRUE):\n",
            "\"problem copying C:\\Users\\saxen\\AppData\\Local\\R\\win-library\\4.3\\00LOCK\\magrittr\\libs\\x64\\magrittr.dll to C:\\Users\\saxen\\AppData\\Local\\R\\win-library\\4.3\\magrittr\\libs\\x64\\magrittr.dll: Permission denied\"\n",
            "Warning message:\n",
            "\"restored 'magrittr'\"\n"
          ]
        },
        {
          "name": "stdout",
          "output_type": "stream",
          "text": [
            "\n",
            "The downloaded binary packages are in\n",
            "\tC:\\Users\\saxen\\AppData\\Local\\Temp\\RtmpghYNSF\\downloaded_packages\n"
          ]
        }
      ],
      "source": [
        "install.packages(\"dplyr\")\n",
        "install.packages(\"magrittr\")"
      ]
    },
    {
      "cell_type": "code",
      "execution_count": null,
      "metadata": {
        "vscode": {
          "languageId": "r"
        }
      },
      "outputs": [],
      "source": [
        "install.packages(\"tidyr\")"
      ]
    },
    {
      "cell_type": "code",
      "execution_count": 3,
      "metadata": {
        "id": "MfEQRI_qMGn_",
        "vscode": {
          "languageId": "r"
        }
      },
      "outputs": [
        {
          "name": "stderr",
          "output_type": "stream",
          "text": [
            "\n",
            "Attaching package: 'dplyr'\n",
            "\n",
            "\n",
            "The following objects are masked from 'package:stats':\n",
            "\n",
            "    filter, lag\n",
            "\n",
            "\n",
            "The following objects are masked from 'package:base':\n",
            "\n",
            "    intersect, setdiff, setequal, union\n",
            "\n",
            "\n",
            "Loading required package: lpSolve\n",
            "\n",
            "\n",
            "Attaching package: 'magrittr'\n",
            "\n",
            "\n",
            "The following object is masked from 'package:tidyr':\n",
            "\n",
            "    extract\n",
            "\n",
            "\n"
          ]
        },
        {
          "ename": "ERROR",
          "evalue": "Error in library(ggplot): there is no package called 'ggplot'\n",
          "output_type": "error",
          "traceback": [
            "Error in library(ggplot): there is no package called 'ggplot'\nTraceback:\n",
            "1. library(ggplot)"
          ]
        }
      ],
      "source": [
        "set.seed(42)\n",
        "library(dplyr)\n",
        "library(irr)\n",
        "library(irrCAC)\n",
        "library(tidyr)\n",
        "library(magrittr)\n",
        "library(ggplot)"
      ]
    },
    {
      "cell_type": "code",
      "execution_count": 32,
      "metadata": {
        "id": "EkZD21VkMMQp",
        "vscode": {
          "languageId": "r"
        }
      },
      "outputs": [],
      "source": [
        "n_pos <- 100  # number of true positive items\n",
        "n_neg <- 100  # Number of true negative items\n",
        "\n",
        "p_pos_correct <- 0.7  # Probability that a rater gives correct answer to a true positive\n",
        "p_neg_correct <- 0.99 # probability that a rater gives correct answer to a true negative\n",
        "\n",
        "n_raters_per_item <- 10"
      ]
    },
    {
      "cell_type": "code",
      "execution_count": 33,
      "metadata": {
        "colab": {
          "base_uri": "https://localhost:8080/",
          "height": 173
        },
        "id": "YaulGcLfMNvr",
        "outputId": "c3c58ccc-f51e-4b81-d9ad-54817a1d0908",
        "vscode": {
          "languageId": "r"
        }
      },
      "outputs": [
        {
          "data": {
            "text/html": [
              "<table class=\"dataframe\">\n",
              "<caption>A tibble: 2 × 2</caption>\n",
              "<thead>\n",
              "\t<tr><th scope=col>true_answer</th><th scope=col>m</th></tr>\n",
              "\t<tr><th scope=col>&lt;dbl&gt;</th><th scope=col>&lt;dbl&gt;</th></tr>\n",
              "</thead>\n",
              "<tbody>\n",
              "\t<tr><td>0</td><td>0.981</td></tr>\n",
              "\t<tr><td>1</td><td>0.989</td></tr>\n",
              "</tbody>\n",
              "</table>\n"
            ],
            "text/latex": [
              "A tibble: 2 × 2\n",
              "\\begin{tabular}{ll}\n",
              " true\\_answer & m\\\\\n",
              " <dbl> & <dbl>\\\\\n",
              "\\hline\n",
              "\t 0 & 0.981\\\\\n",
              "\t 1 & 0.989\\\\\n",
              "\\end{tabular}\n"
            ],
            "text/markdown": [
              "\n",
              "A tibble: 2 × 2\n",
              "\n",
              "| true_answer &lt;dbl&gt; | m &lt;dbl&gt; |\n",
              "|---|---|\n",
              "| 0 | 0.981 |\n",
              "| 1 | 0.989 |\n",
              "\n"
            ],
            "text/plain": [
              "  true_answer m    \n",
              "1 0           0.981\n",
              "2 1           0.989"
            ]
          },
          "metadata": {},
          "output_type": "display_data"
        },
        {
          "data": {
            "text/plain": [
              "\n",
              "   0    1 \n",
              " 992 1008 "
            ]
          },
          "metadata": {},
          "output_type": "display_data"
        },
        {
          "data": {
            "text/html": [
              "<table class=\"dataframe\">\n",
              "<caption>A matrix: 10 × 200 of type dbl</caption>\n",
              "<tbody>\n",
              "\t<tr><th scope=row>1</th><td>1</td><td>1</td><td>1</td><td>1</td><td>1</td><td>1</td><td>1</td><td>1</td><td>1</td><td>1</td><td>⋯</td><td>0</td><td>0</td><td>0</td><td>0</td><td>0</td><td>0</td><td>0</td><td>0</td><td>0</td><td>0</td></tr>\n",
              "\t<tr><th scope=row>2</th><td>1</td><td>1</td><td>1</td><td>1</td><td>1</td><td>1</td><td>1</td><td>1</td><td>1</td><td>1</td><td>⋯</td><td>0</td><td>0</td><td>0</td><td>0</td><td>0</td><td>0</td><td>0</td><td>0</td><td>0</td><td>0</td></tr>\n",
              "\t<tr><th scope=row>3</th><td>1</td><td>1</td><td>1</td><td>1</td><td>1</td><td>1</td><td>1</td><td>1</td><td>1</td><td>1</td><td>⋯</td><td>0</td><td>0</td><td>0</td><td>0</td><td>0</td><td>0</td><td>0</td><td>0</td><td>0</td><td>0</td></tr>\n",
              "\t<tr><th scope=row>4</th><td>1</td><td>1</td><td>1</td><td>1</td><td>1</td><td>1</td><td>1</td><td>1</td><td>1</td><td>1</td><td>⋯</td><td>0</td><td>0</td><td>0</td><td>0</td><td>0</td><td>0</td><td>0</td><td>0</td><td>0</td><td>0</td></tr>\n",
              "\t<tr><th scope=row>5</th><td>1</td><td>1</td><td>1</td><td>1</td><td>1</td><td>1</td><td>1</td><td>1</td><td>1</td><td>1</td><td>⋯</td><td>0</td><td>0</td><td>0</td><td>0</td><td>0</td><td>0</td><td>0</td><td>0</td><td>0</td><td>0</td></tr>\n",
              "\t<tr><th scope=row>6</th><td>0</td><td>1</td><td>1</td><td>1</td><td>1</td><td>1</td><td>1</td><td>1</td><td>1</td><td>1</td><td>⋯</td><td>0</td><td>0</td><td>0</td><td>0</td><td>0</td><td>0</td><td>0</td><td>0</td><td>0</td><td>0</td></tr>\n",
              "\t<tr><th scope=row>7</th><td>1</td><td>1</td><td>1</td><td>1</td><td>1</td><td>1</td><td>1</td><td>1</td><td>1</td><td>1</td><td>⋯</td><td>0</td><td>0</td><td>0</td><td>0</td><td>0</td><td>0</td><td>0</td><td>0</td><td>0</td><td>0</td></tr>\n",
              "\t<tr><th scope=row>8</th><td>1</td><td>1</td><td>1</td><td>1</td><td>1</td><td>1</td><td>1</td><td>1</td><td>1</td><td>1</td><td>⋯</td><td>0</td><td>0</td><td>0</td><td>0</td><td>0</td><td>0</td><td>0</td><td>0</td><td>0</td><td>0</td></tr>\n",
              "\t<tr><th scope=row>9</th><td>1</td><td>1</td><td>1</td><td>1</td><td>1</td><td>1</td><td>1</td><td>1</td><td>1</td><td>1</td><td>⋯</td><td>0</td><td>0</td><td>0</td><td>0</td><td>0</td><td>0</td><td>0</td><td>0</td><td>0</td><td>0</td></tr>\n",
              "\t<tr><th scope=row>10</th><td>1</td><td>1</td><td>1</td><td>1</td><td>1</td><td>1</td><td>1</td><td>1</td><td>1</td><td>1</td><td>⋯</td><td>0</td><td>0</td><td>0</td><td>0</td><td>0</td><td>0</td><td>0</td><td>0</td><td>0</td><td>0</td></tr>\n",
              "</tbody>\n",
              "</table>\n"
            ],
            "text/latex": [
              "A matrix: 10 × 200 of type dbl\n",
              "\\begin{tabular}{r|lllllllllllllllllllll}\n",
              "\t1 & 1 & 1 & 1 & 1 & 1 & 1 & 1 & 1 & 1 & 1 & ⋯ & 0 & 0 & 0 & 0 & 0 & 0 & 0 & 0 & 0 & 0\\\\\n",
              "\t2 & 1 & 1 & 1 & 1 & 1 & 1 & 1 & 1 & 1 & 1 & ⋯ & 0 & 0 & 0 & 0 & 0 & 0 & 0 & 0 & 0 & 0\\\\\n",
              "\t3 & 1 & 1 & 1 & 1 & 1 & 1 & 1 & 1 & 1 & 1 & ⋯ & 0 & 0 & 0 & 0 & 0 & 0 & 0 & 0 & 0 & 0\\\\\n",
              "\t4 & 1 & 1 & 1 & 1 & 1 & 1 & 1 & 1 & 1 & 1 & ⋯ & 0 & 0 & 0 & 0 & 0 & 0 & 0 & 0 & 0 & 0\\\\\n",
              "\t5 & 1 & 1 & 1 & 1 & 1 & 1 & 1 & 1 & 1 & 1 & ⋯ & 0 & 0 & 0 & 0 & 0 & 0 & 0 & 0 & 0 & 0\\\\\n",
              "\t6 & 0 & 1 & 1 & 1 & 1 & 1 & 1 & 1 & 1 & 1 & ⋯ & 0 & 0 & 0 & 0 & 0 & 0 & 0 & 0 & 0 & 0\\\\\n",
              "\t7 & 1 & 1 & 1 & 1 & 1 & 1 & 1 & 1 & 1 & 1 & ⋯ & 0 & 0 & 0 & 0 & 0 & 0 & 0 & 0 & 0 & 0\\\\\n",
              "\t8 & 1 & 1 & 1 & 1 & 1 & 1 & 1 & 1 & 1 & 1 & ⋯ & 0 & 0 & 0 & 0 & 0 & 0 & 0 & 0 & 0 & 0\\\\\n",
              "\t9 & 1 & 1 & 1 & 1 & 1 & 1 & 1 & 1 & 1 & 1 & ⋯ & 0 & 0 & 0 & 0 & 0 & 0 & 0 & 0 & 0 & 0\\\\\n",
              "\t10 & 1 & 1 & 1 & 1 & 1 & 1 & 1 & 1 & 1 & 1 & ⋯ & 0 & 0 & 0 & 0 & 0 & 0 & 0 & 0 & 0 & 0\\\\\n",
              "\\end{tabular}\n"
            ],
            "text/markdown": [
              "\n",
              "A matrix: 10 × 200 of type dbl\n",
              "\n",
              "| 1 | 1 | 1 | 1 | 1 | 1 | 1 | 1 | 1 | 1 | 1 | ⋯ | 0 | 0 | 0 | 0 | 0 | 0 | 0 | 0 | 0 | 0 |\n",
              "| 2 | 1 | 1 | 1 | 1 | 1 | 1 | 1 | 1 | 1 | 1 | ⋯ | 0 | 0 | 0 | 0 | 0 | 0 | 0 | 0 | 0 | 0 |\n",
              "| 3 | 1 | 1 | 1 | 1 | 1 | 1 | 1 | 1 | 1 | 1 | ⋯ | 0 | 0 | 0 | 0 | 0 | 0 | 0 | 0 | 0 | 0 |\n",
              "| 4 | 1 | 1 | 1 | 1 | 1 | 1 | 1 | 1 | 1 | 1 | ⋯ | 0 | 0 | 0 | 0 | 0 | 0 | 0 | 0 | 0 | 0 |\n",
              "| 5 | 1 | 1 | 1 | 1 | 1 | 1 | 1 | 1 | 1 | 1 | ⋯ | 0 | 0 | 0 | 0 | 0 | 0 | 0 | 0 | 0 | 0 |\n",
              "| 6 | 0 | 1 | 1 | 1 | 1 | 1 | 1 | 1 | 1 | 1 | ⋯ | 0 | 0 | 0 | 0 | 0 | 0 | 0 | 0 | 0 | 0 |\n",
              "| 7 | 1 | 1 | 1 | 1 | 1 | 1 | 1 | 1 | 1 | 1 | ⋯ | 0 | 0 | 0 | 0 | 0 | 0 | 0 | 0 | 0 | 0 |\n",
              "| 8 | 1 | 1 | 1 | 1 | 1 | 1 | 1 | 1 | 1 | 1 | ⋯ | 0 | 0 | 0 | 0 | 0 | 0 | 0 | 0 | 0 | 0 |\n",
              "| 9 | 1 | 1 | 1 | 1 | 1 | 1 | 1 | 1 | 1 | 1 | ⋯ | 0 | 0 | 0 | 0 | 0 | 0 | 0 | 0 | 0 | 0 |\n",
              "| 10 | 1 | 1 | 1 | 1 | 1 | 1 | 1 | 1 | 1 | 1 | ⋯ | 0 | 0 | 0 | 0 | 0 | 0 | 0 | 0 | 0 | 0 |\n",
              "\n"
            ],
            "text/plain": [
              "   [,1] [,2] [,3] [,4] [,5] [,6] [,7] [,8] [,9] [,10] [,11] [,12] [,13] [,14]\n",
              "1  1    1    1    1    1    1    1    1    1    1     ⋯     0     0     0    \n",
              "2  1    1    1    1    1    1    1    1    1    1     ⋯     0     0     0    \n",
              "3  1    1    1    1    1    1    1    1    1    1     ⋯     0     0     0    \n",
              "4  1    1    1    1    1    1    1    1    1    1     ⋯     0     0     0    \n",
              "5  1    1    1    1    1    1    1    1    1    1     ⋯     0     0     0    \n",
              "6  0    1    1    1    1    1    1    1    1    1     ⋯     0     0     0    \n",
              "7  1    1    1    1    1    1    1    1    1    1     ⋯     0     0     0    \n",
              "8  1    1    1    1    1    1    1    1    1    1     ⋯     0     0     0    \n",
              "9  1    1    1    1    1    1    1    1    1    1     ⋯     0     0     0    \n",
              "10 1    1    1    1    1    1    1    1    1    1     ⋯     0     0     0    \n",
              "   [,15] [,16] [,17] [,18] [,19] [,20] [,21]\n",
              "1  0     0     0     0     0     0     0    \n",
              "2  0     0     0     0     0     0     0    \n",
              "3  0     0     0     0     0     0     0    \n",
              "4  0     0     0     0     0     0     0    \n",
              "5  0     0     0     0     0     0     0    \n",
              "6  0     0     0     0     0     0     0    \n",
              "7  0     0     0     0     0     0     0    \n",
              "8  0     0     0     0     0     0     0    \n",
              "9  0     0     0     0     0     0     0    \n",
              "10 0     0     0     0     0     0     0    "
            ]
          },
          "metadata": {},
          "output_type": "display_data"
        }
      ],
      "source": [
        "items <- rep(1:(n_neg + n_pos))\n",
        "\n",
        "d <- data.frame(item = rep(items, n_raters_per_item),\n",
        "     true_answer = rep(c(rep(1, n_pos),\n",
        "                     rep(0, n_neg)), n_raters_per_item))\n",
        "\n",
        "# Creates a data frame 'd' with columns 'item' and 'true_answer'.\n",
        "# 'item' repeats the sequence of item identifiers for each rater.\n",
        "# 'true_answer' contains the true classifications (1 for positive, 0 for negative), repeated for each rater.\n",
        "\n",
        "d <- d %>% dplyr::arrange(item)\n",
        "# Arranges the data frame by the 'item' column.\n",
        "\n",
        "d$rater <- 1:n_raters_per_item\n",
        "# Assigns each row a rater ID, from 1 to the number of raters per item.\n",
        "\n",
        "d$rand <- runif(nrow(d))\n",
        "# Adds a column 'rand' with random numbers between 0 and 1 for each row (rating).\n",
        "\n",
        "d_pos <- d %>%\n",
        "  dplyr::filter(true_answer == 1) %>%\n",
        "  dplyr::mutate(answer = ifelse(rand < p_pos_correct, 1, 0))\n",
        "# Filters rows where 'true_answer' is 1 (true positives).\n",
        "# Adds a column 'answer', where raters correctly identify positive items based on the probability 'p_pos_correct'.\n",
        "\n",
        "d_neg <- d %>%\n",
        "  dplyr::filter(true_answer == 0) %>%\n",
        "  dplyr::mutate(answer = ifelse(rand < p_neg_correct, 0, 1))\n",
        "# Filters rows where 'true_answer' is 0 (true negatives).\n",
        "# Adds a column 'answer', where raters correctly identify negative items based on the probability 'p_neg_correct'.\n",
        "\n",
        "d <- dplyr::bind_rows(d_pos, d_neg)\n",
        "# Combines the positive and negative data frames back into one.\n",
        "\n",
        "d %>%\n",
        "  dplyr::mutate(correct = (true_answer == answer)) %>%\n",
        "  dplyr::group_by(true_answer) %>%\n",
        "  dplyr::summarise(m = mean(correct))\n",
        "# This code first creates a new column 'correct' that is TRUE when the rater's answer matches the true answer.\n",
        "# Then it groups the data by 'true_answer' and calculates the mean of the 'correct' column for each group.\n",
        "# 'm' will represent the fraction of correct answers for each type of true answer (true positive or true negative).\n",
        "\n",
        "table(d$answer)\n",
        "\n",
        "# Assuming 'd' is your existing data frame\n",
        "# Transforming 'd' into a format suitable for kripp.alpha\n",
        "ratings_matrix <- d %>%\n",
        "  select(item, rater, answer) %>%\n",
        "  pivot_wider(names_from = rater, values_from = answer)\n",
        "\n",
        "# Removing the item column to get the matrix format\n",
        "binary_ratings_matrix <- t(as.matrix(ratings_matrix[,-1]))\n",
        "\n",
        "binary_ratings_matrix"
      ]
    },
    {
      "cell_type": "markdown",
      "metadata": {},
      "source": [
        "What should be the next step from here:\n",
        "- Write code to calculate Krippendorf's alpha\n",
        "- Generate the skew in data (number of TP and TN true items)"
      ]
    },
    {
      "cell_type": "code",
      "execution_count": 34,
      "metadata": {
        "vscode": {
          "languageId": "r"
        }
      },
      "outputs": [
        {
          "name": "stdout",
          "output_type": "stream",
          "text": [
            " Krippendorff's alpha\n",
            "\n",
            " Subjects = 200 \n",
            "   Raters = 10 \n",
            "    alpha = 0.941 \n"
          ]
        }
      ],
      "source": [
        "# Calculate Krippendorff's Alpha\n",
        "alpha_result <- irr::kripp.alpha(binary_ratings_matrix, method = \"nominal\")\n",
        "print(alpha_result)"
      ]
    },
    {
      "cell_type": "code",
      "execution_count": 35,
      "metadata": {
        "vscode": {
          "languageId": "r"
        }
      },
      "outputs": [
        {
          "data": {
            "text/html": [
              "0.950002727780506"
            ],
            "text/latex": [
              "0.950002727780506"
            ],
            "text/markdown": [
              "0.950002727780506"
            ],
            "text/plain": [
              "[1] 0.9500027"
            ]
          },
          "metadata": {},
          "output_type": "display_data"
        }
      ],
      "source": [
        "calculate_krippendorff_alpha <- function(n_pos, n_neg, p_pos_correct, p_neg_correct, n_raters_per_item) {\n",
        "  # Create the data frame with true answers\n",
        "  d <- data.frame(item = rep(1:(n_neg + n_pos), each = n_raters_per_item),\n",
        "                  true_answer = rep(c(rep(1, n_pos), rep(0, n_neg)), each = n_raters_per_item))\n",
        "\n",
        "  # Assign rater IDs and generate random numbers\n",
        "  d$rater <- rep(1:n_raters_per_item, times = n_neg + n_pos)\n",
        "  d$rand <- runif(nrow(d))\n",
        "\n",
        "  # Assign answers based on true_answer and probabilities\n",
        "  d$answer <- with(d, ifelse(true_answer == 1, ifelse(rand < p_pos_correct, 1, 0), \n",
        "                            ifelse(rand < p_neg_correct, 0, 1)))\n",
        "\n",
        "  # Transform data into matrix format for Krippendorff's alpha calculation\n",
        "  ratings_matrix <- d %>%\n",
        "    select(item, rater, answer) %>%\n",
        "    pivot_wider(names_from = rater, values_from = answer)\n",
        "\n",
        "  binary_ratings_matrix <- t(as.matrix(ratings_matrix[,-1]))\n",
        "\n",
        "  # Calculate Krippendorff's alpha\n",
        "  alpha <- kripp.alpha(binary_ratings_matrix, method = \"nominal\")\n",
        "\n",
        "  return(alpha$value)\n",
        "}\n",
        "\n",
        "# Example usage of the function\n",
        "krippendorff_alpha <- calculate_krippendorff_alpha(100, 100, 0.99, 0.99, 10)\n",
        "krippendorff_alpha\n",
        "\n"
      ]
    },
    {
      "cell_type": "code",
      "execution_count": 8,
      "metadata": {
        "vscode": {
          "languageId": "r"
        }
      },
      "outputs": [],
      "source": [
        "# remove.packages(\"ggplot2\") # Unisntall ggplot\n",
        "# install.packages(\"ggplot2\") # Install it again\n",
        "library(ggplot2) # Load the librarie (you have to do this one on each new session)"
      ]
    },
    {
      "cell_type": "code",
      "execution_count": 9,
      "metadata": {
        "vscode": {
          "languageId": "r"
        }
      },
      "outputs": [
        {
          "data": {
            "image/png": "[encoded data removed]",
            "text/plain": [
              "plot without title"
            ]
          },
          "metadata": {
            "image/png": {
              "height": 420,
              "width": 420
            }
          },
          "output_type": "display_data"
        }
      ],
      "source": [
        "# Initialize vectors to store the values\n",
        "probabilities <- seq(0, 1, by = 0.1)\n",
        "alpha_values_pos_constant <- numeric(length(probabilities))\n",
        "alpha_values_neg_constant <- numeric(length(probabilities))\n",
        "\n",
        "# Constant values for p_pos_correct and p_neg_correct\n",
        "constant_pos_correct <- 0.99  # Keeping p_pos_correct constant\n",
        "constant_neg_correct <- 0.99  # Keeping p_neg_correct constant\n",
        "\n",
        "# Calculate Krippendorff's alpha for varying p_neg_correct, keeping p_pos_correct constant\n",
        "for (i in seq_along(probabilities)) {\n",
        "  alpha_values_neg_constant[i] <- calculate_krippendorff_alpha(100, 100, constant_pos_correct, probabilities[i], 10)\n",
        "}\n",
        "\n",
        "# Calculate Krippendorff's alpha for varying p_pos_correct, keeping p_neg_correct constant\n",
        "for (i in seq_along(probabilities)) {\n",
        "  alpha_values_pos_constant[i] <- calculate_krippendorff_alpha(100, 100, probabilities[i], constant_neg_correct, 10)\n",
        "}\n",
        "\n",
        "data_to_plot <- data.frame(\n",
        "    Probability = rep(probabilities, times = 2),\n",
        "    KrippendorffAlpha = c(alpha_values_neg_constant, alpha_values_pos_constant),\n",
        "    Type = rep(c(\"Vary p_neg_correct\", \"Vary p_pos_correct\"), each = length(probabilities))\n",
        ")\n",
        "\n",
        "# Create the plot\n",
        "ggplot(data_to_plot, aes(x = Probability, y = KrippendorffAlpha, color = Type, group = Type)) +\n",
        "  geom_line() +\n",
        "  ggtitle(\"Krippendorff's Alpha vs. Varying Probabilities\") +\n",
        "  xlab(\"Probability\") +\n",
        "  ylab(\"Krippendorff's Alpha\") +\n",
        "  scale_color_manual(values = c(\"blue\", \"red\")) +\n",
        "  theme_minimal()"
      ]
    },
    {
      "cell_type": "code",
      "execution_count": 10,
      "metadata": {
        "vscode": {
          "languageId": "r"
        }
      },
      "outputs": [],
      "source": [
        "calculate_krippendorff_alpha_with_accuracy <- function(n_pos, n_neg, accuracy, n_raters_per_item) {\n",
        "  # Create the data frame with true answers\n",
        "  d <- data.frame(item = rep(1:(n_neg + n_pos), each = n_raters_per_item),\n",
        "                  true_answer = rep(c(rep(1, n_pos), rep(0, n_neg)), each = n_raters_per_item))\n",
        "\n",
        "  # Assign rater IDs and generate random numbers\n",
        "  d$rater <- rep(1:n_raters_per_item, times = n_neg + n_pos)\n",
        "  d$rand <- runif(nrow(d))\n",
        "\n",
        "  # Assign answers based on true_answer and accuracy\n",
        "  d$answer <- with(d, ifelse(true_answer == 1, ifelse(rand < accuracy, 1, 0), \n",
        "                            ifelse(rand < accuracy, 0, 1)))\n",
        "\n",
        "  # Transform data into matrix format for Krippendorff's alpha calculation\n",
        "  ratings_matrix <- d %>%\n",
        "    select(item, rater, answer) %>%\n",
        "    pivot_wider(names_from = rater, values_from = answer)\n",
        "\n",
        "  binary_ratings_matrix <- t(as.matrix(ratings_matrix[,-1]))\n",
        "\n",
        "  # Calculate Krippendorff's alpha\n",
        "  alpha <- kripp.alpha(binary_ratings_matrix, method = \"nominal\")\n",
        "\n",
        "  return(alpha$value)\n",
        "}\n",
        "\n"
      ]
    },
    {
      "cell_type": "code",
      "execution_count": 11,
      "metadata": {
        "vscode": {
          "languageId": "r"
        }
      },
      "outputs": [
        {
          "data": {
            "image/png": "[encoded data removed]",
            "text/plain": [
              "plot without title"
            ]
          },
          "metadata": {
            "image/png": {
              "height": 420,
              "width": 420
            }
          },
          "output_type": "display_data"
        }
      ],
      "source": [
        "# Sequence of accuracy values\n",
        "accuracies <- seq(0, 1, by = 0.1)\n",
        "\n",
        "# Initialize a vector to store Krippendorff's alpha values\n",
        "alpha_values <- numeric(length(accuracies))\n",
        "\n",
        "# Calculate Krippendorff's alpha for each accuracy\n",
        "for (i in seq_along(accuracies)) {\n",
        "  alpha_values[i] <- calculate_krippendorff_alpha_with_accuracy(100, 100, accuracies[i], 10)\n",
        "}\n",
        "\n",
        "# Create the plot\n",
        "data_to_plot <- data.frame(Accuracy = accuracies, KrippendorffAlpha = alpha_values)\n",
        "ggplot(data_to_plot, aes(x = Accuracy, y = KrippendorffAlpha)) +\n",
        "  geom_line() +\n",
        "  ggtitle(\"Krippendorff's Alpha vs. Rater's Accuracy\") +\n",
        "  xlab(\"Accuracy\") +\n",
        "  ylab(\"Krippendorff's Alpha\")"
      ]
    },
    {
      "cell_type": "code",
      "execution_count": 31,
      "metadata": {
        "vscode": {
          "languageId": "r"
        }
      },
      "outputs": [],
      "source": [
        "# total_items is the total number of items (both positive and negative).\n",
        "# split_ratio is the proportion of positive items (a value between 0 and 1).\n",
        "\n",
        "calculate_krippendorff_alpha_with_split_ratio <- function(total_items, split_ratio, accuracy, n_raters_per_item) {\n",
        "  # Calculate n_pos and n_neg from total_items and split_ratio\n",
        "  n_pos <- round(total_items * split_ratio)\n",
        "  n_neg <- total_items - n_pos\n",
        "\n",
        "  # Create the data frame with true answers\n",
        "  d <- data.frame(item = rep(1:total_items, each = n_raters_per_item),\n",
        "                  true_answer = rep(c(rep(1, n_pos), rep(0, n_neg)), each = n_raters_per_item))\n",
        "\n",
        "  # Assign rater IDs and generate random numbers\n",
        "  d$rater <- rep(1:n_raters_per_item, times = total_items)\n",
        "  d$rand <- runif(nrow(d))\n",
        "\n",
        "  # Assign answers based on true_answer and accuracy\n",
        "  d$answer <- with(d, ifelse(true_answer == 1, ifelse(rand < accuracy, 1, 0), \n",
        "                            ifelse(rand < accuracy, 0, 1)))\n",
        "\n",
        "  # Transform data into matrix format for Krippendorff's alpha calculation\n",
        "  ratings_matrix <- d %>%\n",
        "    select(item, rater, answer) %>%\n",
        "    pivot_wider(names_from = rater, values_from = answer)\n",
        "\n",
        "  binary_ratings_matrix <- t(as.matrix(ratings_matrix[,-1]))\n",
        "\n",
        "  # Calculate Krippendorff's alpha\n",
        "  alpha <- kripp.alpha(binary_ratings_matrix, method = \"nominal\")\n",
        "\n",
        "  return(alpha$value)\n",
        "}\n"
      ]
    },
    {
      "cell_type": "code",
      "execution_count": 28,
      "metadata": {
        "vscode": {
          "languageId": "r"
        }
      },
      "outputs": [
        {
          "name": "stdout",
          "output_type": "stream",
          "text": [
            "[1] 0.6350004\n"
          ]
        }
      ],
      "source": [
        "# Total number of items\n",
        "total_items <- 200\n",
        "\n",
        "# Split ratio (proportion of positive items)\n",
        "split_ratio <- 0.4\n",
        "\n",
        "# Accuracy (probability of a rater giving a correct answer)\n",
        "accuracy <- 0.9\n",
        "\n",
        "# Number of raters per item\n",
        "n_raters_per_item <- 10\n",
        "\n",
        "# Calculate Krippendorff's alpha\n",
        "krippendorff_alpha <- calculate_krippendorff_alpha_with_split_ratio(total_items, split_ratio, accuracy, n_raters_per_item)\n",
        "\n",
        "# Print the result\n",
        "print(krippendorff_alpha)\n"
      ]
    },
    {
      "cell_type": "code",
      "execution_count": 29,
      "metadata": {
        "vscode": {
          "languageId": "r"
        }
      },
      "outputs": [],
      "source": [
        "library(ggplot2)\n",
        "\n",
        "# Assume your function calculate_krippendorff_alpha_with_split_ratio is defined\n",
        "\n",
        "# Parameters\n",
        "total_items <- 200  # Total number of items\n",
        "accuracy <- 0.9  # Accuracy\n",
        "n_raters_per_item <- 100  # Number of raters per item\n",
        "\n",
        "# Create a sequence for split ratio from 0.1 to 0.9\n",
        "split_ratios <- seq(0.1, 0.9, by = 0.1)\n",
        "\n",
        "# Initialize a vector to store Krippendorff's alpha values\n",
        "alpha_values <- numeric(length(split_ratios))\n",
        "\n",
        "# Calculate Krippendorff's alpha for each split ratio\n",
        "for (i in seq_along(split_ratios)) {\n",
        "  alpha_values[i] <- calculate_krippendorff_alpha_with_split_ratio(\n",
        "                        total_items, split_ratios[i], accuracy, n_raters_per_item)\n",
        "}"
      ]
    },
    {
      "cell_type": "code",
      "execution_count": 30,
      "metadata": {
        "vscode": {
          "languageId": "r"
        }
      },
      "outputs": [
        {
          "data": {
            "image/png": "[encoded data removed]",
            "text/plain": [
              "plot without title"
            ]
          },
          "metadata": {
            "image/png": {
              "height": 420,
              "width": 420
            }
          },
          "output_type": "display_data"
        }
      ],
      "source": [
        "\n",
        "# Create the plot\n",
        "data_to_plot <- data.frame(SplitRatio = split_ratios, KrippendorffAlpha = alpha_values)\n",
        "ggplot(data_to_plot, aes(x = SplitRatio, y = KrippendorffAlpha)) +\n",
        "  geom_line() +\n",
        "  ggtitle(\"Krippendorff's Alpha vs. Split Ratio\") +\n",
        "  xlab(\"Split Ratio\") +\n",
        "  ylab(\"Krippendorff's Alpha\")\n"
      ]
    },
    {
      "cell_type": "code",
      "execution_count": 22,
      "metadata": {
        "vscode": {
          "languageId": "r"
        }
      },
      "outputs": [
        {
          "data": {
            "text/html": [
              "<table class=\"dataframe\">\n",
              "<caption>A data.frame: 9 × 10</caption>\n",
              "<thead>\n",
              "\t<tr><th scope=col>accuracy</th><th scope=col>0.1</th><th scope=col>0.2</th><th scope=col>0.3</th><th scope=col>0.4</th><th scope=col>0.5</th><th scope=col>0.6</th><th scope=col>0.7</th><th scope=col>0.8</th><th scope=col>0.9</th></tr>\n",
              "\t<tr><th scope=col>&lt;dbl&gt;</th><th scope=col>&lt;dbl&gt;</th><th scope=col>&lt;dbl&gt;</th><th scope=col>&lt;dbl&gt;</th><th scope=col>&lt;dbl&gt;</th><th scope=col>&lt;dbl&gt;</th><th scope=col>&lt;dbl&gt;</th><th scope=col>&lt;dbl&gt;</th><th scope=col>&lt;dbl&gt;</th><th scope=col>&lt;dbl&gt;</th></tr>\n",
              "</thead>\n",
              "<tbody>\n",
              "\t<tr><td>0.1</td><td> 0.49233601</td><td>0.492522270</td><td> 0.54660130</td><td> 0.62525267</td><td>0.568216000</td><td>0.69076387</td><td> 0.58336247</td><td> 0.477594667</td><td>0.46945269</td></tr>\n",
              "\t<tr><td>0.2</td><td> 0.05386217</td><td>0.336377635</td><td> 0.34038882</td><td> 0.36156152</td><td>0.320296499</td><td>0.38513218</td><td> 0.29950425</td><td> 0.327124825</td><td>0.19620474</td></tr>\n",
              "\t<tr><td>0.3</td><td> 0.04127821</td><td>0.087892615</td><td> 0.25907180</td><td> 0.10602870</td><td>0.171087740</td><td>0.21607843</td><td> 0.14626042</td><td> 0.093341800</td><td>0.05350379</td></tr>\n",
              "\t<tr><td>0.4</td><td> 0.02425722</td><td>0.008930161</td><td> 0.04456253</td><td> 0.06920790</td><td>0.004243086</td><td>0.00809924</td><td> 0.07355667</td><td> 0.025110893</td><td>0.08258454</td></tr>\n",
              "\t<tr><td>0.5</td><td>-0.02718587</td><td>0.060470000</td><td>-0.02626302</td><td>-0.01975106</td><td>0.004482072</td><td>0.06787150</td><td>-0.02184433</td><td>-0.020812974</td><td>0.01593971</td></tr>\n",
              "\t<tr><td>0.6</td><td> 0.01672608</td><td>0.051692267</td><td> 0.01614452</td><td> 0.07192943</td><td>0.012494000</td><td>0.04769556</td><td> 0.03787842</td><td> 0.003998153</td><td>0.02628496</td></tr>\n",
              "\t<tr><td>0.7</td><td> 0.04063350</td><td>0.090266081</td><td> 0.26408301</td><td> 0.13681093</td><td>0.151324116</td><td>0.11129223</td><td> 0.13237847</td><td> 0.114373587</td><td>0.04740821</td></tr>\n",
              "\t<tr><td>0.8</td><td> 0.21092105</td><td>0.231237826</td><td> 0.28156527</td><td> 0.33966870</td><td>0.423956199</td><td>0.35736728</td><td> 0.30590278</td><td> 0.261072969</td><td>0.11686590</td></tr>\n",
              "\t<tr><td>0.9</td><td> 0.38905868</td><td>0.605460526</td><td> 0.56049030</td><td> 0.66581013</td><td>0.660082981</td><td>0.64879082</td><td> 0.62415043</td><td> 0.469981204</td><td>0.44224330</td></tr>\n",
              "</tbody>\n",
              "</table>\n"
            ],
            "text/latex": [
              "A data.frame: 9 × 10\n",
              "\\begin{tabular}{llllllllll}\n",
              " accuracy & 0.1 & 0.2 & 0.3 & 0.4 & 0.5 & 0.6 & 0.7 & 0.8 & 0.9\\\\\n",
              " <dbl> & <dbl> & <dbl> & <dbl> & <dbl> & <dbl> & <dbl> & <dbl> & <dbl> & <dbl>\\\\\n",
              "\\hline\n",
              "\t 0.1 &  0.49233601 & 0.492522270 &  0.54660130 &  0.62525267 & 0.568216000 & 0.69076387 &  0.58336247 &  0.477594667 & 0.46945269\\\\\n",
              "\t 0.2 &  0.05386217 & 0.336377635 &  0.34038882 &  0.36156152 & 0.320296499 & 0.38513218 &  0.29950425 &  0.327124825 & 0.19620474\\\\\n",
              "\t 0.3 &  0.04127821 & 0.087892615 &  0.25907180 &  0.10602870 & 0.171087740 & 0.21607843 &  0.14626042 &  0.093341800 & 0.05350379\\\\\n",
              "\t 0.4 &  0.02425722 & 0.008930161 &  0.04456253 &  0.06920790 & 0.004243086 & 0.00809924 &  0.07355667 &  0.025110893 & 0.08258454\\\\\n",
              "\t 0.5 & -0.02718587 & 0.060470000 & -0.02626302 & -0.01975106 & 0.004482072 & 0.06787150 & -0.02184433 & -0.020812974 & 0.01593971\\\\\n",
              "\t 0.6 &  0.01672608 & 0.051692267 &  0.01614452 &  0.07192943 & 0.012494000 & 0.04769556 &  0.03787842 &  0.003998153 & 0.02628496\\\\\n",
              "\t 0.7 &  0.04063350 & 0.090266081 &  0.26408301 &  0.13681093 & 0.151324116 & 0.11129223 &  0.13237847 &  0.114373587 & 0.04740821\\\\\n",
              "\t 0.8 &  0.21092105 & 0.231237826 &  0.28156527 &  0.33966870 & 0.423956199 & 0.35736728 &  0.30590278 &  0.261072969 & 0.11686590\\\\\n",
              "\t 0.9 &  0.38905868 & 0.605460526 &  0.56049030 &  0.66581013 & 0.660082981 & 0.64879082 &  0.62415043 &  0.469981204 & 0.44224330\\\\\n",
              "\\end{tabular}\n"
            ],
            "text/markdown": [
              "\n",
              "A data.frame: 9 × 10\n",
              "\n",
              "| accuracy &lt;dbl&gt; | 0.1 &lt;dbl&gt; | 0.2 &lt;dbl&gt; | 0.3 &lt;dbl&gt; | 0.4 &lt;dbl&gt; | 0.5 &lt;dbl&gt; | 0.6 &lt;dbl&gt; | 0.7 &lt;dbl&gt; | 0.8 &lt;dbl&gt; | 0.9 &lt;dbl&gt; |\n",
              "|---|---|---|---|---|---|---|---|---|---|\n",
              "| 0.1 |  0.49233601 | 0.492522270 |  0.54660130 |  0.62525267 | 0.568216000 | 0.69076387 |  0.58336247 |  0.477594667 | 0.46945269 |\n",
              "| 0.2 |  0.05386217 | 0.336377635 |  0.34038882 |  0.36156152 | 0.320296499 | 0.38513218 |  0.29950425 |  0.327124825 | 0.19620474 |\n",
              "| 0.3 |  0.04127821 | 0.087892615 |  0.25907180 |  0.10602870 | 0.171087740 | 0.21607843 |  0.14626042 |  0.093341800 | 0.05350379 |\n",
              "| 0.4 |  0.02425722 | 0.008930161 |  0.04456253 |  0.06920790 | 0.004243086 | 0.00809924 |  0.07355667 |  0.025110893 | 0.08258454 |\n",
              "| 0.5 | -0.02718587 | 0.060470000 | -0.02626302 | -0.01975106 | 0.004482072 | 0.06787150 | -0.02184433 | -0.020812974 | 0.01593971 |\n",
              "| 0.6 |  0.01672608 | 0.051692267 |  0.01614452 |  0.07192943 | 0.012494000 | 0.04769556 |  0.03787842 |  0.003998153 | 0.02628496 |\n",
              "| 0.7 |  0.04063350 | 0.090266081 |  0.26408301 |  0.13681093 | 0.151324116 | 0.11129223 |  0.13237847 |  0.114373587 | 0.04740821 |\n",
              "| 0.8 |  0.21092105 | 0.231237826 |  0.28156527 |  0.33966870 | 0.423956199 | 0.35736728 |  0.30590278 |  0.261072969 | 0.11686590 |\n",
              "| 0.9 |  0.38905868 | 0.605460526 |  0.56049030 |  0.66581013 | 0.660082981 | 0.64879082 |  0.62415043 |  0.469981204 | 0.44224330 |\n",
              "\n"
            ],
            "text/plain": [
              "  accuracy 0.1         0.2         0.3         0.4         0.5        \n",
              "1 0.1       0.49233601 0.492522270  0.54660130  0.62525267 0.568216000\n",
              "2 0.2       0.05386217 0.336377635  0.34038882  0.36156152 0.320296499\n",
              "3 0.3       0.04127821 0.087892615  0.25907180  0.10602870 0.171087740\n",
              "4 0.4       0.02425722 0.008930161  0.04456253  0.06920790 0.004243086\n",
              "5 0.5      -0.02718587 0.060470000 -0.02626302 -0.01975106 0.004482072\n",
              "6 0.6       0.01672608 0.051692267  0.01614452  0.07192943 0.012494000\n",
              "7 0.7       0.04063350 0.090266081  0.26408301  0.13681093 0.151324116\n",
              "8 0.8       0.21092105 0.231237826  0.28156527  0.33966870 0.423956199\n",
              "9 0.9       0.38905868 0.605460526  0.56049030  0.66581013 0.660082981\n",
              "  0.6        0.7         0.8          0.9       \n",
              "1 0.69076387  0.58336247  0.477594667 0.46945269\n",
              "2 0.38513218  0.29950425  0.327124825 0.19620474\n",
              "3 0.21607843  0.14626042  0.093341800 0.05350379\n",
              "4 0.00809924  0.07355667  0.025110893 0.08258454\n",
              "5 0.06787150 -0.02184433 -0.020812974 0.01593971\n",
              "6 0.04769556  0.03787842  0.003998153 0.02628496\n",
              "7 0.11129223  0.13237847  0.114373587 0.04740821\n",
              "8 0.35736728  0.30590278  0.261072969 0.11686590\n",
              "9 0.64879082  0.62415043  0.469981204 0.44224330"
            ]
          },
          "metadata": {},
          "output_type": "display_data"
        }
      ],
      "source": [
        "# Example usage of the function\n",
        "total_items <- 100  # You can adjust this value as needed\n",
        "n_raters_per_item <- 5  # Adjust this based on your requirements\n",
        "\n",
        "# Define accuracies and split ratios\n",
        "accuracies <- seq(0.1, 0.9, by = 0.1)\n",
        "split_ratios <- c(0.9, 0.8, 0.7, 0.6, 0.5, 0.4, 0.3, 0.2, 0.1)\n",
        "\n",
        "# Create an empty data frame to store results\n",
        "results <- expand.grid(accuracy = accuracies, split_ratio = split_ratios)\n",
        "results$KA <- NA  # Add a column to store Krippendorff's alpha\n",
        "\n",
        "# Calculate Krippendorff's alpha for each combination of accuracy and split ratio\n",
        "for (i in 1:nrow(results)) {\n",
        "  results$KA[i] <- calculate_krippendorff_alpha_with_split_ratio(\n",
        "    total_items, results$split_ratio[i], results$accuracy[i], n_raters_per_item)\n",
        "}\n",
        "\n",
        "# Reshape the data for presentation similar to the image\n",
        "results_table <- reshape2::dcast(results, accuracy ~ split_ratio, value.var = \"KA\")\n",
        "\n",
        "# Print the results table\n",
        "results_table"
      ]
    }
  ],
  "metadata": {
    "colab": {
      "provenance": []
    },
    "kernelspec": {
      "display_name": "R",
      "language": "R",
      "name": "ir"
    },
    "language_info": {
      "codemirror_mode": "r",
      "file_extension": ".r",
      "mimetype": "text/x-r-source",
      "name": "R",
      "pygments_lexer": "r",
      "version": "4.3.2"
    }
  },
  "nbformat": 4,
  "nbformat_minor": 0
}
